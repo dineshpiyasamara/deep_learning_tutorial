{
 "cells": [
  {
   "cell_type": "code",
   "execution_count": null,
   "id": "1dd43d88",
   "metadata": {},
   "outputs": [],
   "source": [
    "# import libraries\n",
    "import pandas as pd\n",
    "import matplotlib.pyplot as plt\n",
    "import tensorflow as tf"
   ]
  },
  {
   "cell_type": "markdown",
   "id": "0a0c3d5f",
   "metadata": {},
   "source": [
    "### Download dataset from Kaggle "
   ]
  },
  {
   "cell_type": "code",
   "execution_count": null,
   "id": "e018f4aa",
   "metadata": {
    "scrolled": true
   },
   "outputs": [],
   "source": [
    "!pip install opendatasets -q"
   ]
  },
  {
   "cell_type": "code",
   "execution_count": null,
   "id": "33cc4fef",
   "metadata": {},
   "outputs": [],
   "source": [
    "import opendatasets as od"
   ]
  },
  {
   "cell_type": "markdown",
   "id": "4bfa4881",
   "metadata": {},
   "source": [
    "Dataset Link: https://www.kaggle.com/datasets/andonians/random-linear-regression"
   ]
  },
  {
   "cell_type": "code",
   "execution_count": null,
   "id": "3cf2dc55",
   "metadata": {
    "scrolled": true
   },
   "outputs": [],
   "source": [
    "od.download(\"https://www.kaggle.com/datasets/andonians/random-linear-regression\")"
   ]
  },
  {
   "cell_type": "code",
   "execution_count": null,
   "id": "497b4e72",
   "metadata": {},
   "outputs": [],
   "source": [
    "data = pd.read_csv(\"random-linear-regression/test.csv\")"
   ]
  },
  {
   "cell_type": "code",
   "execution_count": null,
   "id": "a349ad86",
   "metadata": {},
   "outputs": [],
   "source": [
    "# # Load downloaded dataset\n",
    "# data = pd.read_csv(\"dataset.csv\")"
   ]
  },
  {
   "cell_type": "markdown",
   "id": "a5c81f7b",
   "metadata": {},
   "source": [
    "### Data Preprocessing "
   ]
  },
  {
   "cell_type": "code",
   "execution_count": null,
   "id": "2b2e4f9b",
   "metadata": {},
   "outputs": [],
   "source": [
    "data.head()"
   ]
  },
  {
   "cell_type": "code",
   "execution_count": null,
   "id": "022104af",
   "metadata": {},
   "outputs": [],
   "source": [
    "data.shape"
   ]
  },
  {
   "cell_type": "code",
   "execution_count": null,
   "id": "dc5697ac",
   "metadata": {},
   "outputs": [],
   "source": [
    "X = data[\"x\"]\n",
    "y = data[\"y\"]"
   ]
  },
  {
   "cell_type": "code",
   "execution_count": null,
   "id": "dcebfbfa",
   "metadata": {},
   "outputs": [],
   "source": [
    "X"
   ]
  },
  {
   "cell_type": "code",
   "execution_count": null,
   "id": "91c8c8d6",
   "metadata": {},
   "outputs": [],
   "source": [
    "plt.scatter(X, y, c='b')\n",
    "plt.show()"
   ]
  },
  {
   "cell_type": "code",
   "execution_count": null,
   "id": "6a871851",
   "metadata": {},
   "outputs": [],
   "source": [
    "from sklearn.model_selection import train_test_split\n",
    "X_train, X_test, y_train, y_test = train_test_split(X, y, test_size=0.2, random_state=42)"
   ]
  },
  {
   "cell_type": "code",
   "execution_count": null,
   "id": "c43cfe9f",
   "metadata": {},
   "outputs": [],
   "source": [
    "X_train.shape, X_test.shape"
   ]
  },
  {
   "cell_type": "code",
   "execution_count": null,
   "id": "80ffc7ac",
   "metadata": {
    "scrolled": false
   },
   "outputs": [],
   "source": [
    "plt.scatter(X_train, y_train, c='b', label='Training data')\n",
    "plt.scatter(X_test, y_test, c='y', label='Testing data')\n",
    "plt.legend()\n",
    "plt.show()"
   ]
  },
  {
   "cell_type": "markdown",
   "id": "339bdd5a",
   "metadata": {},
   "source": [
    "### Model Building "
   ]
  },
  {
   "cell_type": "code",
   "execution_count": null,
   "id": "37350b69",
   "metadata": {},
   "outputs": [],
   "source": [
    "# create a model\n",
    "model = tf.keras.Sequential([\n",
    "    tf.keras.layers.Dense(4,input_shape=(1,)),\n",
    "    tf.keras.layers.Dense(1)\n",
    "])\n",
    "\n",
    "# compile the model\n",
    "model.compile(loss = tf.keras.losses.mae,\n",
    "             optimizer = tf.keras.optimizers.Adam(learning_rate=0.01),\n",
    "             metrics = [\"mae\"])\n",
    "\n",
    "# train the model\n",
    "epoch_number = 4\n",
    "history = model.fit(tf.expand_dims(X_train, axis=-1), y_train, epochs=epoch_number)"
   ]
  },
  {
   "cell_type": "code",
   "execution_count": null,
   "id": "23e95094",
   "metadata": {},
   "outputs": [],
   "source": [
    "X_train.shape"
   ]
  },
  {
   "cell_type": "code",
   "execution_count": null,
   "id": "5f677522",
   "metadata": {},
   "outputs": [],
   "source": [
    "tf.expand_dims(X_train, axis=-1).shape"
   ]
  },
  {
   "cell_type": "code",
   "execution_count": null,
   "id": "6516b14d",
   "metadata": {},
   "outputs": [],
   "source": [
    "model.summary()"
   ]
  },
  {
   "cell_type": "code",
   "execution_count": null,
   "id": "745c606b",
   "metadata": {},
   "outputs": [],
   "source": [
    "y_pred = model.predict(X_test)\n",
    "y_pred[:5]"
   ]
  },
  {
   "cell_type": "code",
   "execution_count": null,
   "id": "76e752b6",
   "metadata": {},
   "outputs": [],
   "source": [
    "y_test[:5]"
   ]
  },
  {
   "cell_type": "code",
   "execution_count": null,
   "id": "b1e28321",
   "metadata": {},
   "outputs": [],
   "source": [
    "plt.scatter(X_train, y_train, c='b', label='Training_data')\n",
    "plt.scatter(X_test, y_test, c='y', label='Testing_data')\n",
    "plt.scatter(X_test, y_pred, c='r', label='Predictions')\n",
    "plt.legend()\n",
    "plt.show()"
   ]
  },
  {
   "cell_type": "markdown",
   "id": "4bf79686",
   "metadata": {},
   "source": [
    "### Evaluate Model"
   ]
  },
  {
   "cell_type": "code",
   "execution_count": null,
   "id": "0deb11ba",
   "metadata": {},
   "outputs": [],
   "source": [
    "# Using evaluate method\n",
    "model.evaluate(X_test, y_test)"
   ]
  },
  {
   "cell_type": "code",
   "execution_count": null,
   "id": "0fe19d56",
   "metadata": {},
   "outputs": [],
   "source": [
    "# Using MAE (Mean Absolute Error)\n",
    "mae = tf.metrics.mean_absolute_error(y_test, tf.squeeze(y_pred))\n",
    "mae"
   ]
  },
  {
   "cell_type": "code",
   "execution_count": null,
   "id": "a3d6d3da",
   "metadata": {},
   "outputs": [],
   "source": [
    "# Using MSE (Mean Squared Error)\n",
    "mse = tf.metrics.mean_squared_error(y_test, tf.squeeze(y_pred))\n",
    "mse"
   ]
  },
  {
   "cell_type": "code",
   "execution_count": null,
   "id": "bf19e427",
   "metadata": {},
   "outputs": [],
   "source": [
    "x_range = range(1, epoch_number+1)\n",
    "loss = history.history['loss']\n",
    "plt.plot(x_range, loss)\n",
    "plt.xlabel('epoch')\n",
    "plt.ylabel('loss')\n",
    "plt.show()"
   ]
  },
  {
   "cell_type": "markdown",
   "id": "28e93875",
   "metadata": {},
   "source": [
    "### Model Weights and Baises"
   ]
  },
  {
   "cell_type": "code",
   "execution_count": null,
   "id": "737046d6",
   "metadata": {},
   "outputs": [],
   "source": [
    "# Let's see finalized weight values and bias values\n",
    "for layer in model.layers:\n",
    "    weights = layer.get_weights()[0]\n",
    "    biases = layer.get_weights()[1]\n",
    "    print(f\"\\nWeights:\\n {weights} \\nBiases:\\n {biases}\")"
   ]
  }
 ],
 "metadata": {
  "kernelspec": {
   "display_name": "Python 3 (ipykernel)",
   "language": "python",
   "name": "python3"
  },
  "language_info": {
   "codemirror_mode": {
    "name": "ipython",
    "version": 3
   },
   "file_extension": ".py",
   "mimetype": "text/x-python",
   "name": "python",
   "nbconvert_exporter": "python",
   "pygments_lexer": "ipython3",
   "version": "3.10.9"
  }
 },
 "nbformat": 4,
 "nbformat_minor": 5
}
