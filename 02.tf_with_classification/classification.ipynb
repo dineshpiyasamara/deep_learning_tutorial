{
 "cells": [
  {
   "cell_type": "code",
   "execution_count": null,
   "id": "4d938bfb",
   "metadata": {},
   "outputs": [],
   "source": [
    "# import necessary libraries\n",
    "import pandas as pd\n",
    "import matplotlib.pyplot as plt\n",
    "import tensorflow as tf"
   ]
  },
  {
   "cell_type": "markdown",
   "id": "f463463d",
   "metadata": {},
   "source": [
    "### Download dataset from Kaggle"
   ]
  },
  {
   "cell_type": "code",
   "execution_count": null,
   "id": "a9427139",
   "metadata": {},
   "outputs": [],
   "source": [
    "!pip install opendatasets -q"
   ]
  },
  {
   "cell_type": "code",
   "execution_count": null,
   "id": "aa0c1a59",
   "metadata": {},
   "outputs": [],
   "source": [
    "import opendatasets as od"
   ]
  },
  {
   "cell_type": "markdown",
   "id": "81bb2158",
   "metadata": {},
   "source": [
    "Dataset Link: https://www.kaggle.com/datasets/saranpannasuriyaporn/male-female-height-and-weight"
   ]
  },
  {
   "cell_type": "code",
   "execution_count": null,
   "id": "4a3cdd2c",
   "metadata": {},
   "outputs": [],
   "source": [
    "od.download(\"https://www.kaggle.com/datasets/saranpannasuriyaporn/male-female-height-and-weight\")"
   ]
  },
  {
   "cell_type": "code",
   "execution_count": null,
   "id": "cf978b27",
   "metadata": {},
   "outputs": [],
   "source": [
    "data = pd.read_csv(\"male-female-height-and-weight/Test set.csv\")"
   ]
  },
  {
   "cell_type": "code",
   "execution_count": null,
   "id": "41c95b19",
   "metadata": {},
   "outputs": [],
   "source": [
    "# # load downloaded dataset\n",
    "# data = pd.read_csv(\"dataset.csv\")"
   ]
  },
  {
   "cell_type": "markdown",
   "id": "53ab9ef8",
   "metadata": {},
   "source": [
    "### Data Preprocessing"
   ]
  },
  {
   "cell_type": "code",
   "execution_count": null,
   "id": "28577ae5",
   "metadata": {},
   "outputs": [],
   "source": [
    "data.head()"
   ]
  },
  {
   "cell_type": "code",
   "execution_count": null,
   "id": "21e60fe9",
   "metadata": {},
   "outputs": [],
   "source": [
    "data.loc[data['Sex']=='Male','Sex']=1\n",
    "data.loc[data['Sex']=='Female','Sex']=0"
   ]
  },
  {
   "cell_type": "code",
   "execution_count": null,
   "id": "8006bed6",
   "metadata": {},
   "outputs": [],
   "source": [
    "data.head()"
   ]
  },
  {
   "cell_type": "code",
   "execution_count": null,
   "id": "3a7135a2",
   "metadata": {},
   "outputs": [],
   "source": [
    "X = data.drop(['Sex'], axis=1)\n",
    "y = data['Sex']"
   ]
  },
  {
   "cell_type": "code",
   "execution_count": null,
   "id": "bf4d2c13",
   "metadata": {
    "scrolled": true
   },
   "outputs": [],
   "source": [
    "X.head()"
   ]
  },
  {
   "cell_type": "code",
   "execution_count": null,
   "id": "8cd7c90b",
   "metadata": {},
   "outputs": [],
   "source": [
    "# feature scaling\n",
    "from sklearn.preprocessing import MinMaxScaler\n",
    "scaler = MinMaxScaler()\n",
    "x_scaled = scaler.fit_transform(X)\n",
    "X = pd.DataFrame(x_scaled, columns=['Height', 'Weight'])"
   ]
  },
  {
   "cell_type": "code",
   "execution_count": null,
   "id": "bbc975a8",
   "metadata": {},
   "outputs": [],
   "source": [
    "X.info()"
   ]
  },
  {
   "cell_type": "code",
   "execution_count": null,
   "id": "6f439a39",
   "metadata": {},
   "outputs": [],
   "source": [
    "y[:5]"
   ]
  },
  {
   "cell_type": "code",
   "execution_count": null,
   "id": "3c8ef62e",
   "metadata": {},
   "outputs": [],
   "source": [
    "y.dtype"
   ]
  },
  {
   "cell_type": "code",
   "execution_count": null,
   "id": "0edfd161",
   "metadata": {},
   "outputs": [],
   "source": [
    "y = y.astype('int')"
   ]
  },
  {
   "cell_type": "code",
   "execution_count": null,
   "id": "186518bb",
   "metadata": {},
   "outputs": [],
   "source": [
    "plt.scatter(X['Height'], X['Weight'], c=y)\n",
    "plt.colorbar()\n",
    "plt.show()"
   ]
  },
  {
   "cell_type": "code",
   "execution_count": null,
   "id": "325e4615",
   "metadata": {},
   "outputs": [],
   "source": [
    "from sklearn.model_selection import train_test_split\n",
    "X_train, X_test, y_train, y_test = train_test_split(X, y, test_size=0.2, random_state=42)"
   ]
  },
  {
   "cell_type": "code",
   "execution_count": null,
   "id": "ff8cf070",
   "metadata": {},
   "outputs": [],
   "source": [
    "X_train.shape, X_test.shape"
   ]
  },
  {
   "cell_type": "markdown",
   "id": "b5f8bc42",
   "metadata": {},
   "source": [
    "### Model Building"
   ]
  },
  {
   "cell_type": "markdown",
   "id": "e89dd600",
   "metadata": {},
   "source": [
    "#### OPTION 1"
   ]
  },
  {
   "cell_type": "code",
   "execution_count": null,
   "id": "b347d9e3",
   "metadata": {},
   "outputs": [],
   "source": [
    "# create a model\n",
    "model = tf.keras.Sequential([\n",
    "    tf.keras.layers.Dense(128, activation='relu', input_shape=(2,)),\n",
    "    tf.keras.layers.Dense(64, activation='relu'),\n",
    "    tf.keras.layers.Dense(16, activation='relu'),\n",
    "    tf.keras.layers.Dense(1, activation='sigmoid')\n",
    "])\n",
    "\n",
    "# compile the model\n",
    "model.compile(loss = tf.keras.losses.BinaryCrossentropy(),\n",
    "             optimizer = tf.keras.optimizers.Adam(learning_rate=0.01),\n",
    "             metrics = [\"accuracy\"])\n",
    "\n",
    "# train the model\n",
    "epoch_number = 10\n",
    "history = model.fit(X_train, y_train, epochs=epoch_number)"
   ]
  },
  {
   "cell_type": "code",
   "execution_count": null,
   "id": "3ba47492",
   "metadata": {},
   "outputs": [],
   "source": [
    "model.summary()"
   ]
  },
  {
   "cell_type": "code",
   "execution_count": null,
   "id": "9aa302e4",
   "metadata": {},
   "outputs": [],
   "source": [
    "y_pred = model.predict(X_test)\n",
    "y_pred[:5]"
   ]
  },
  {
   "cell_type": "code",
   "execution_count": null,
   "id": "c5a502c0",
   "metadata": {},
   "outputs": [],
   "source": [
    "y_test[:5]"
   ]
  },
  {
   "cell_type": "markdown",
   "id": "8bb2218a",
   "metadata": {},
   "source": [
    "#### OPTION 2"
   ]
  },
  {
   "cell_type": "code",
   "execution_count": null,
   "id": "c4377b7e",
   "metadata": {},
   "outputs": [],
   "source": [
    "# create a model\n",
    "model = tf.keras.Sequential([\n",
    "    tf.keras.layers.Dense(128, activation='relu', input_shape=(2,)),\n",
    "    tf.keras.layers.Dense(64, activation='relu'),\n",
    "    tf.keras.layers.Dense(16, activation='relu'),\n",
    "    tf.keras.layers.Dense(2, activation='softmax')\n",
    "])\n",
    "\n",
    "# compile the model\n",
    "model.compile(loss = tf.keras.losses.SparseCategoricalCrossentropy(),\n",
    "             optimizer = tf.keras.optimizers.Adam(learning_rate=0.01),\n",
    "             metrics = [\"accuracy\"])\n",
    "\n",
    "# train the model\n",
    "epoch_number = 10\n",
    "history = model.fit(X_train, y_train, epochs=epoch_number)"
   ]
  },
  {
   "cell_type": "code",
   "execution_count": null,
   "id": "f3bd9266",
   "metadata": {},
   "outputs": [],
   "source": [
    "model.summary()"
   ]
  },
  {
   "cell_type": "code",
   "execution_count": null,
   "id": "676c561d",
   "metadata": {},
   "outputs": [],
   "source": [
    "y_pred = model.predict(X_test)\n",
    "y_pred[:5]"
   ]
  },
  {
   "cell_type": "code",
   "execution_count": null,
   "id": "2ecd999c",
   "metadata": {},
   "outputs": [],
   "source": [
    "import numpy as np\n",
    "y_pred = np.argmax(y_pred, axis=1)\n",
    "y_pred[:5]"
   ]
  },
  {
   "cell_type": "code",
   "execution_count": null,
   "id": "207faaa1",
   "metadata": {},
   "outputs": [],
   "source": [
    "y_test[:5]"
   ]
  },
  {
   "cell_type": "markdown",
   "id": "2418cdd4",
   "metadata": {},
   "source": [
    "### Evaluate Model"
   ]
  },
  {
   "cell_type": "code",
   "execution_count": null,
   "id": "986c9be1",
   "metadata": {},
   "outputs": [],
   "source": [
    "# Using evaluate method\n",
    "model.evaluate(X_test, y_test)"
   ]
  },
  {
   "cell_type": "code",
   "execution_count": null,
   "id": "b6b68be8",
   "metadata": {},
   "outputs": [],
   "source": [
    "# Precision\n",
    "precision = tf.keras.metrics.Precision()\n",
    "precision.update_state(y_test, y_pred)\n",
    "precision.result()"
   ]
  },
  {
   "cell_type": "code",
   "execution_count": null,
   "id": "041e776e",
   "metadata": {},
   "outputs": [],
   "source": [
    "# Recall\n",
    "recall = tf.keras.metrics.Recall()\n",
    "recall.update_state(y_test, y_pred)\n",
    "recall.result()"
   ]
  },
  {
   "cell_type": "markdown",
   "id": "10d310b2",
   "metadata": {},
   "source": [
    "### Variation of loss and accuracy"
   ]
  },
  {
   "cell_type": "code",
   "execution_count": null,
   "id": "bc21e141",
   "metadata": {},
   "outputs": [],
   "source": [
    "pd.DataFrame(history.history).plot()"
   ]
  }
 ],
 "metadata": {
  "kernelspec": {
   "display_name": "Python 3 (ipykernel)",
   "language": "python",
   "name": "python3"
  },
  "language_info": {
   "codemirror_mode": {
    "name": "ipython",
    "version": 3
   },
   "file_extension": ".py",
   "mimetype": "text/x-python",
   "name": "python",
   "nbconvert_exporter": "python",
   "pygments_lexer": "ipython3",
   "version": "3.10.9"
  }
 },
 "nbformat": 4,
 "nbformat_minor": 5
}
