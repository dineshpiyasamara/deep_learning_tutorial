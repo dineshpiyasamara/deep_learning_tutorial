{
 "cells": [
  {
   "cell_type": "code",
   "execution_count": 52,
   "id": "6883fbed",
   "metadata": {},
   "outputs": [],
   "source": [
    "import tensorflow as tf"
   ]
  },
  {
   "cell_type": "code",
   "execution_count": 53,
   "id": "9aabd954",
   "metadata": {},
   "outputs": [
    {
     "data": {
      "text/plain": [
       "<tf.Tensor: shape=(50,), dtype=int32, numpy=\n",
       "array([ 0,  2,  4,  6,  8, 10, 12, 14, 16, 18, 20, 22, 24, 26, 28, 30, 32,\n",
       "       34, 36, 38, 40, 42, 44, 46, 48, 50, 52, 54, 56, 58, 60, 62, 64, 66,\n",
       "       68, 70, 72, 74, 76, 78, 80, 82, 84, 86, 88, 90, 92, 94, 96, 98])>"
      ]
     },
     "execution_count": 53,
     "metadata": {},
     "output_type": "execute_result"
    }
   ],
   "source": [
    "X = tf.range(0, 100, 2)\n",
    "X"
   ]
  },
  {
   "cell_type": "code",
   "execution_count": 54,
   "id": "afb912f7",
   "metadata": {},
   "outputs": [
    {
     "data": {
      "text/plain": [
       "<tf.Tensor: shape=(50,), dtype=int32, numpy=\n",
       "array([  3,   7,  11,  15,  19,  23,  27,  31,  35,  39,  43,  47,  51,\n",
       "        55,  59,  63,  67,  71,  75,  79,  83,  87,  91,  95,  99, 103,\n",
       "       107, 111, 115, 119, 123, 127, 131, 135, 139, 143, 147, 151, 155,\n",
       "       159, 163, 167, 171, 175, 179, 183, 187, 191, 195, 199])>"
      ]
     },
     "execution_count": 54,
     "metadata": {},
     "output_type": "execute_result"
    }
   ],
   "source": [
    "y = 2*X + 3\n",
    "y"
   ]
  },
  {
   "cell_type": "code",
   "execution_count": 62,
   "id": "55258d84",
   "metadata": {
    "scrolled": false
   },
   "outputs": [
    {
     "data": {
      "image/png": "[encoded data removed]",
      "text/plain": [
       "<Figure size 640x480 with 1 Axes>"
      ]
     },
     "metadata": {},
     "output_type": "display_data"
    }
   ],
   "source": [
    "import matplotlib.pyplot as plt\n",
    "plt.scatter(X, y)\n",
    "plt.show()"
   ]
  },
  {
   "cell_type": "markdown",
   "id": "c689d7a3",
   "metadata": {},
   "source": [
    "### Model Building "
   ]
  },
  {
   "cell_type": "code",
   "execution_count": 56,
   "id": "a1e9b223",
   "metadata": {},
   "outputs": [
    {
     "name": "stdout",
     "output_type": "stream",
     "text": [
      "Epoch 1/50\n",
      "2/2 [==============================] - 0s 3ms/step - loss: 131.0903 - mae: 131.0903\n",
      "Epoch 2/50\n",
      "2/2 [==============================] - 0s 4ms/step - loss: 124.6643 - mae: 124.6643\n",
      "Epoch 3/50\n",
      "2/2 [==============================] - 0s 3ms/step - loss: 118.3990 - mae: 118.3990\n",
      "Epoch 4/50\n",
      "2/2 [==============================] - 0s 3ms/step - loss: 112.0689 - mae: 112.0689\n",
      "Epoch 5/50\n",
      "2/2 [==============================] - 0s 4ms/step - loss: 105.8642 - mae: 105.8642\n",
      "Epoch 6/50\n",
      "2/2 [==============================] - 0s 3ms/step - loss: 100.0120 - mae: 100.0120\n",
      "Epoch 7/50\n",
      "2/2 [==============================] - 0s 4ms/step - loss: 93.9256 - mae: 93.9256\n",
      "Epoch 8/50\n",
      "2/2 [==============================] - 0s 4ms/step - loss: 88.1632 - mae: 88.1632\n",
      "Epoch 9/50\n",
      "2/2 [==============================] - 0s 4ms/step - loss: 81.9697 - mae: 81.9697\n",
      "Epoch 10/50\n",
      "2/2 [==============================] - 0s 4ms/step - loss: 76.0636 - mae: 76.0636\n",
      "Epoch 11/50\n",
      "2/2 [==============================] - 0s 4ms/step - loss: 69.6985 - mae: 69.6985\n",
      "Epoch 12/50\n",
      "2/2 [==============================] - 0s 4ms/step - loss: 63.2456 - mae: 63.2456\n",
      "Epoch 13/50\n",
      "2/2 [==============================] - 0s 3ms/step - loss: 56.5550 - mae: 56.5550\n",
      "Epoch 14/50\n",
      "2/2 [==============================] - 0s 3ms/step - loss: 49.6317 - mae: 49.6317\n",
      "Epoch 15/50\n",
      "2/2 [==============================] - 0s 4ms/step - loss: 42.2810 - mae: 42.2810\n",
      "Epoch 16/50\n",
      "2/2 [==============================] - 0s 4ms/step - loss: 34.5015 - mae: 34.5015\n",
      "Epoch 17/50\n",
      "2/2 [==============================] - 0s 3ms/step - loss: 26.7643 - mae: 26.7643\n",
      "Epoch 18/50\n",
      "2/2 [==============================] - 0s 7ms/step - loss: 18.2300 - mae: 18.2300\n",
      "Epoch 19/50\n",
      "2/2 [==============================] - 0s 4ms/step - loss: 9.0423 - mae: 9.0423\n",
      "Epoch 20/50\n",
      "2/2 [==============================] - 0s 5ms/step - loss: 2.2810 - mae: 2.2810\n",
      "Epoch 21/50\n",
      "2/2 [==============================] - 0s 7ms/step - loss: 8.0916 - mae: 8.0916\n",
      "Epoch 22/50\n",
      "2/2 [==============================] - 0s 4ms/step - loss: 12.0643 - mae: 12.0643\n",
      "Epoch 23/50\n",
      "2/2 [==============================] - 0s 6ms/step - loss: 12.8271 - mae: 12.8271\n",
      "Epoch 24/50\n",
      "2/2 [==============================] - 0s 4ms/step - loss: 11.2173 - mae: 11.2173\n",
      "Epoch 25/50\n",
      "2/2 [==============================] - 0s 6ms/step - loss: 7.9136 - mae: 7.9136\n",
      "Epoch 26/50\n",
      "2/2 [==============================] - 0s 3ms/step - loss: 3.3834 - mae: 3.3834\n",
      "Epoch 27/50\n",
      "2/2 [==============================] - 0s 6ms/step - loss: 1.7375 - mae: 1.7375\n",
      "Epoch 28/50\n",
      "2/2 [==============================] - 0s 4ms/step - loss: 4.4844 - mae: 4.4844\n",
      "Epoch 29/50\n",
      "2/2 [==============================] - 0s 4ms/step - loss: 4.9063 - mae: 4.9063\n",
      "Epoch 30/50\n",
      "2/2 [==============================] - 0s 4ms/step - loss: 3.5722 - mae: 3.5722\n",
      "Epoch 31/50\n",
      "2/2 [==============================] - 0s 4ms/step - loss: 1.1948 - mae: 1.1948\n",
      "Epoch 32/50\n",
      "2/2 [==============================] - 0s 3ms/step - loss: 2.3687 - mae: 2.3687\n",
      "Epoch 33/50\n",
      "2/2 [==============================] - 0s 4ms/step - loss: 2.9610 - mae: 2.9610\n",
      "Epoch 34/50\n",
      "2/2 [==============================] - 0s 4ms/step - loss: 1.8175 - mae: 1.8175\n",
      "Epoch 35/50\n",
      "2/2 [==============================] - 0s 4ms/step - loss: 0.9552 - mae: 0.9552\n",
      "Epoch 36/50\n",
      "2/2 [==============================] - 0s 4ms/step - loss: 1.8773 - mae: 1.8773\n",
      "Epoch 37/50\n",
      "2/2 [==============================] - 0s 8ms/step - loss: 1.0009 - mae: 1.0009\n",
      "Epoch 38/50\n",
      "2/2 [==============================] - 0s 4ms/step - loss: 1.1559 - mae: 1.1559\n",
      "Epoch 39/50\n",
      "2/2 [==============================] - 0s 4ms/step - loss: 1.0971 - mae: 1.0971\n",
      "Epoch 40/50\n",
      "2/2 [==============================] - 0s 3ms/step - loss: 0.6433 - mae: 0.6433\n",
      "Epoch 41/50\n",
      "2/2 [==============================] - 0s 4ms/step - loss: 0.9338 - mae: 0.9338\n",
      "Epoch 42/50\n",
      "2/2 [==============================] - 0s 3ms/step - loss: 0.6673 - mae: 0.6673\n",
      "Epoch 43/50\n",
      "2/2 [==============================] - 0s 5ms/step - loss: 0.7387 - mae: 0.7387\n",
      "Epoch 44/50\n",
      "2/2 [==============================] - 0s 3ms/step - loss: 0.5253 - mae: 0.5253\n",
      "Epoch 45/50\n",
      "2/2 [==============================] - 0s 5ms/step - loss: 0.4199 - mae: 0.4199\n",
      "Epoch 46/50\n",
      "2/2 [==============================] - 0s 6ms/step - loss: 0.4650 - mae: 0.4650\n",
      "Epoch 47/50\n",
      "2/2 [==============================] - 0s 4ms/step - loss: 0.4440 - mae: 0.4440\n",
      "Epoch 48/50\n",
      "2/2 [==============================] - 0s 4ms/step - loss: 0.3991 - mae: 0.3991\n",
      "Epoch 49/50\n",
      "2/2 [==============================] - 0s 3ms/step - loss: 0.3795 - mae: 0.3795\n",
      "Epoch 50/50\n",
      "2/2 [==============================] - 0s 4ms/step - loss: 0.3810 - mae: 0.3810\n"
     ]
    },
    {
     "data": {
      "text/plain": [
       "<keras.callbacks.History at 0x1bdfeafbb50>"
      ]
     },
     "execution_count": 56,
     "metadata": {},
     "output_type": "execute_result"
    }
   ],
   "source": [
    "# create a model\n",
    "model = tf.keras.Sequential([\n",
    "    tf.keras.layers.Dense(10, input_shape=(1,)),\n",
    "    tf.keras.layers.Dense(1)\n",
    "])\n",
    "\n",
    "# compile the model\n",
    "model.compile(loss = tf.keras.losses.mae,\n",
    "             optimizer = tf.keras.optimizers.Adam(0.01),\n",
    "             metrics = ['mae'])\n",
    "\n",
    "# train the model\n",
    "model.fit(X, y, epochs=50)"
   ]
  },
  {
   "cell_type": "code",
   "execution_count": 57,
   "id": "d32919aa",
   "metadata": {},
   "outputs": [
    {
     "data": {
      "text/plain": [
       "303"
      ]
     },
     "execution_count": 57,
     "metadata": {},
     "output_type": "execute_result"
    }
   ],
   "source": [
    "X_val = 150\n",
    "2*X_val + 3"
   ]
  },
  {
   "cell_type": "code",
   "execution_count": 58,
   "id": "78a2206c",
   "metadata": {},
   "outputs": [
    {
     "data": {
      "text/plain": [
       "-17"
      ]
     },
     "execution_count": 58,
     "metadata": {},
     "output_type": "execute_result"
    }
   ],
   "source": [
    "X_val = -10\n",
    "2*X_val + 3"
   ]
  },
  {
   "cell_type": "code",
   "execution_count": 59,
   "id": "0a3102ac",
   "metadata": {},
   "outputs": [
    {
     "name": "stdout",
     "output_type": "stream",
     "text": [
      "WARNING:tensorflow:6 out of the last 9 calls to <function Model.make_predict_function.<locals>.predict_function at 0x000001BDFEABCE50> triggered tf.function retracing. Tracing is expensive and the excessive number of tracings could be due to (1) creating @tf.function repeatedly in a loop, (2) passing tensors with different shapes, (3) passing Python objects instead of tensors. For (1), please define your @tf.function outside of the loop. For (2), @tf.function has reduce_retracing=True option that can avoid unnecessary retracing. For (3), please refer to https://www.tensorflow.org/guide/function#controlling_retracing and https://www.tensorflow.org/api_docs/python/tf/function for  more details.\n"
     ]
    },
    {
     "name": "stderr",
     "output_type": "stream",
     "text": [
      "WARNING:tensorflow:6 out of the last 9 calls to <function Model.make_predict_function.<locals>.predict_function at 0x000001BDFEABCE50> triggered tf.function retracing. Tracing is expensive and the excessive number of tracings could be due to (1) creating @tf.function repeatedly in a loop, (2) passing tensors with different shapes, (3) passing Python objects instead of tensors. For (1), please define your @tf.function outside of the loop. For (2), @tf.function has reduce_retracing=True option that can avoid unnecessary retracing. For (3), please refer to https://www.tensorflow.org/guide/function#controlling_retracing and https://www.tensorflow.org/api_docs/python/tf/function for  more details.\n"
     ]
    },
    {
     "name": "stdout",
     "output_type": "stream",
     "text": [
      "1/1 [==============================] - 0s 58ms/step\n"
     ]
    },
    {
     "data": {
      "text/plain": [
       "array([[305.9783  ],\n",
       "       [-17.915884]], dtype=float32)"
      ]
     },
     "execution_count": 59,
     "metadata": {},
     "output_type": "execute_result"
    }
   ],
   "source": [
    "model.predict([150, -10])"
   ]
  },
  {
   "cell_type": "markdown",
   "id": "ab68f19e",
   "metadata": {},
   "source": [
    "### Save model using SavedModel format"
   ]
  },
  {
   "cell_type": "code",
   "execution_count": 60,
   "id": "f9a2a6bc",
   "metadata": {},
   "outputs": [
    {
     "name": "stderr",
     "output_type": "stream",
     "text": [
      "WARNING:absl:Found untraced functions such as _update_step_xla while saving (showing 1 of 1). These functions will not be directly callable after loading.\n"
     ]
    },
    {
     "name": "stdout",
     "output_type": "stream",
     "text": [
      "INFO:tensorflow:Assets written to: new_model_1\\assets\n"
     ]
    },
    {
     "name": "stderr",
     "output_type": "stream",
     "text": [
      "INFO:tensorflow:Assets written to: new_model_1\\assets\n"
     ]
    }
   ],
   "source": [
    "model.save(\"new_model_1\")"
   ]
  },
  {
   "cell_type": "markdown",
   "id": "ba30679e",
   "metadata": {},
   "source": [
    "### Save model using HDF5 format "
   ]
  },
  {
   "cell_type": "code",
   "execution_count": 61,
   "id": "a5c973c3",
   "metadata": {},
   "outputs": [],
   "source": [
    "model.save(\"new_model_2.h5\")"
   ]
  }
 ],
 "metadata": {
  "kernelspec": {
   "display_name": "Python 3 (ipykernel)",
   "language": "python",
   "name": "python3"
  },
  "language_info": {
   "codemirror_mode": {
    "name": "ipython",
    "version": 3
   },
   "file_extension": ".py",
   "mimetype": "text/x-python",
   "name": "python",
   "nbconvert_exporter": "python",
   "pygments_lexer": "ipython3",
   "version": "3.10.9"
  }
 },
 "nbformat": 4,
 "nbformat_minor": 5
}
