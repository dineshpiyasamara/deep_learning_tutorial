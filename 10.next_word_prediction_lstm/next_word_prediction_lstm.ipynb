{
  "nbformat": 4,
  "nbformat_minor": 0,
  "metadata": {
    "colab": {
      "provenance": []
    },
    "kernelspec": {
      "name": "python3",
      "display_name": "Python 3"
    },
    "language_info": {
      "name": "python"
    }
  },
  "cells": [
    {
      "cell_type": "code",
      "execution_count": 1,
      "metadata": {
        "id": "Cdy3wy15xEWI"
      },
      "outputs": [],
      "source": [
        "# import necessary libraries\n",
        "import numpy as np\n",
        "import tensorflow as tf"
      ]
    },
    {
      "cell_type": "markdown",
      "source": [
        "### Training Phase"
      ],
      "metadata": {
        "id": "iW-P5slUySTh"
      }
    },
    {
      "cell_type": "code",
      "source": [
        "# load dataset\n",
        "with open(\"/content/cricket.txt\", 'r', encoding='utf-8') as file:\n",
        "    cricket_history = file.read()"
      ],
      "metadata": {
        "id": "vnlsTBS1xJrT"
      },
      "execution_count": 2,
      "outputs": []
    },
    {
      "cell_type": "code",
      "source": [
        "cricket_history[:500]"
      ],
      "metadata": {
        "colab": {
          "base_uri": "https://localhost:8080/",
          "height": 87
        },
        "id": "1DFP668ryKx7",
        "outputId": "0bf6b96b-9a47-4780-e60d-50897bc23971"
      },
      "execution_count": 3,
      "outputs": [
        {
          "output_type": "execute_result",
          "data": {
            "text/plain": [
              "'Cricket history is particularly murky and vague as to the exact origins of the game, it is believed to have been born in England in the late middle ages.\\n\\nEdward III banned a game similar to cricket in 1369, ‘pila baculorea’ or ‘club ball’ as it was known, as he saw it as being a distraction to his war effort.\\n\\nDerek Birley in his wonderful book, ‘A Social History of English Cricket’ suggests the game came to England with the French during the time of the Norman Invasion, that their word ‘crique'"
            ],
            "application/vnd.google.colaboratory.intrinsic+json": {
              "type": "string"
            }
          },
          "metadata": {},
          "execution_count": 3
        }
      ]
    },
    {
      "cell_type": "code",
      "source": [
        "tokenizer = tf.keras.preprocessing.text.Tokenizer()\n",
        "tokenizer.fit_on_texts([cricket_history])"
      ],
      "metadata": {
        "id": "Pq6Esp5FyNrC"
      },
      "execution_count": 4,
      "outputs": []
    },
    {
      "cell_type": "code",
      "source": [
        "tokenizer.get_config()['filters']"
      ],
      "metadata": {
        "colab": {
          "base_uri": "https://localhost:8080/",
          "height": 35
        },
        "id": "ycBdRs9Q26y9",
        "outputId": "83e9495b-2923-487a-b65d-e97a7e6797d2"
      },
      "execution_count": 5,
      "outputs": [
        {
          "output_type": "execute_result",
          "data": {
            "text/plain": [
              "'!\"#$%&()*+,-./:;<=>?@[\\\\]^_`{|}~\\t\\n'"
            ],
            "application/vnd.google.colaboratory.intrinsic+json": {
              "type": "string"
            }
          },
          "metadata": {},
          "execution_count": 5
        }
      ]
    },
    {
      "cell_type": "code",
      "source": [
        "tokenizer.get_config()['word_counts']"
      ],
      "metadata": {
        "colab": {
          "base_uri": "https://localhost:8080/",
          "height": 157
        },
        "id": "xfaHK6oq34te",
        "outputId": "22284e6b-9bf3-4a3c-894c-6d4ab161defe"
      },
      "execution_count": 6,
      "outputs": [
        {
          "output_type": "execute_result",
          "data": {
            "text/plain": [
              "'{\"cricket\": 35, \"history\": 2, \"is\": 8, \"particularly\": 2, \"murky\": 1, \"and\": 47, \"vague\": 1, \"as\": 25, \"to\": 45, \"the\": 148, \"exact\": 1, \"origins\": 1, \"of\": 48, \"game\": 22, \"it\": 22, \"believed\": 1, \"have\": 4, \"been\": 4, \"born\": 2, \"in\": 57, \"england\": 15, \"late\": 1, \"middle\": 1, \"ages\": 1, \"edward\": 3, \"iii\": 2, \"banned\": 1, \"a\": 22, \"similar\": 2, \"1369\": 1, \"\\\\u2018pila\": 1, \"baculorea\\\\u2019\": 1, \"or\": 5, \"\\\\u2018club\": 1, \"ball\\\\u2019\": 1, \"was\": 15, \"known\": 1, \"he\": 1, \"saw\": 7, \"being\": 8, \"distraction\": 1, \"his\": 2, \"war\": 1, \"effort\": 1, \"derek\": 1, \"birley\": 1, \"wonderful\": 1, \"book\": 1, \"\\\\u2018a\": 1, \"social\": 1, \"english\": 6, \"cricket\\\\u2019\": 3, \"suggests\": 1, \"came\": 1, \"with\": 16, \"french\": 1, \"during\": 2, \"time\": 5, \"norman\": 1, \"invasion\": 2, \"that\": 9, \"their\": 4, \"word\": 3, \"\\\\u2018criquet\\\\u2019\": 1, \"dialect\": 1, \"name\": 1, \"for\": 19, \"variation\": 1, \"club\": 4, \"ball\": 3, \"had\": 9, \"sought\": 2, \"eradicate\": 1, \"there\": 3, \"record\": 1, \"\\\\u2018creag\\\\u2019\": 2, \"derivative\": 1, \"creaget\": 1, \"1299\": 1, \"1300\": 1, \"royal\": 1, \"wardrobe\": 1, \"accounts\": 1, \"then\": 2, \"prince\": 1, \"ii\": 1, \"play\": 3, \"other\": 2, \"games\": 8, \"no\": 1, \"evidence\": 1, \"creag\": 1, \"same\": 1, \"criquet\": 1, \"links\": 1, \"are\": 1, \"too\": 1, \"tenuous\": 1, \"rarely\": 1, \"appear\": 1, \"any\": 1, \"records\": 1, \"this\": 5, \"unless\": 1, \"aristocracy\": 5, \"were\": 16, \"playing\": 6, \"them\": 4, \"trying\": 1, \"eradicated\": 1, \"morally\": 1, \"degenerate\": 1, \"first\": 6, \"recorded\": 5, \"played\": 11, \"by\": 11, \"schoolboys\": 1, \"guildford\": 1, \"sixteenth\": 1, \"century\": 5, \"found\": 2, \"an\": 6, \"italian\": 1, \"dictionary\": 1, \"1598\": 1, \"gambling\": 2, \"working\": 2, \"classes\": 4, \"1611\": 1, \"adults\": 1, \"two\": 5, \"men\": 3, \"prosecuted\": 1, \"instead\": 1, \"attending\": 2, \"church\": 2, \"on\": 5, \"theme\": 1, \"1628\": 1, \"ten\": 1, \"fined\": 1, \"rather\": 1, \"than\": 1, \"service\": 1, \"they\": 7, \"also\": 1, \"make\": 1, \"confession\": 1, \"congregation\": 1, \"way\": 3, \"penance\": 1, \"continued\": 2, \"evolve\": 1, \"amongst\": 1, \"became\": 2, \"central\": 1, \"its\": 13, \"growth\": 2, \"particular\": 1, \"seen\": 3, \"obvious\": 1, \"attributes\": 1, \"bet\": 1, \"outcomes\": 1, \"teams\": 4, \"assembled\": 2, \"under\": 2, \"patronage\": 1, \"aristocrats\": 1, \"purses\": 2, \"put\": 1, \"up\": 4, \"\\\\u2018great\": 2, \"matches\\\\u2019\": 2, \"1696\": 1, \"\\\\u2018\": 2, \"great\": 1, \"match\": 4, \"at\": 9, \"sussex\": 1, \"eleven\": 1, \"side\": 3, \"fifty\": 1, \"guineas\": 1, \"apiece\\\\u2019\": 1, \"growing\": 1, \"both\": 1, \"within\": 1, \"upper\": 1, \"genuine\": 1, \"recreational\": 1, \"past\": 1, \"rural\": 2, \"workers\": 2, \"southern\": 1, \"counties\": 1, \"composite\": 1, \"beginning\": 2, \"be\": 6, \"period\": 1, \"early\": 2, \"1700\\\\u2019s\": 2, \"crossing\": 1, \"class\": 2, \"divides\": 1, \"encouraged\": 1, \"nobility\": 1, \"patronizing\": 1, \"employ\": 2, \"best\": 3, \"players\": 4, \"could\": 1, \"thus\": 2, \"who\": 2, \"become\": 3, \"adept\": 1, \"employed\": 1, \"\\\\u2018hands\\\\u2019\": 1, \"travelling\": 1, \"london\": 2, \"north\": 2, \"can\": 1, \"lay\": 2, \"claim\": 2, \"cradle\": 1, \"matches\": 2, \"staged\": 3, \"islington\": 1, \"white\": 2, \"conduit\": 2, \"field\": 3, \"\\\\u2018field\": 1, \"keeper\\\\u2019\": 1, \"angel\": 1, \"inn\": 1, \"part\": 2, \"amenities\": 1, \"1718\": 1, \"brought\": 3, \"into\": 4, \"law\": 1, \"courts\": 1, \"after\": 5, \"dispute\": 1, \"between\": 6, \"area\": 2, \"\\\\u2018cradle\": 1, \"hambledon\": 2, \"hampshire\": 1, \"where\": 2, \"broad\": 1, \"down\": 1, \"halfpenny\": 1, \"began\": 4, \"assume\": 1, \"truly\": 1, \"skilful\": 1, \"scientific\": 1, \"character\": 1, \"which\": 1, \"now\": 3, \"possesses\": 1, \"\\\\u2019\": 1, \"immortalised\": 1, \"writing\": 1, \"john\": 1, \"nyren\": 1, \"captured\": 1, \"spirit\": 2, \"segregation\": 1, \"rich\": 1, \"varied\": 1, \"life\": 1, \"spread\": 4, \"through\": 1, \"provincial\": 1, \"towns\": 1, \"grew\": 1, \"industrialization\": 1, \"yorkshire\": 1, \"1750\\\\u2019s\": 1, \"laws\": 3, \"1744\": 1, \"codified\": 1, \"1788\": 2, \"revised\": 1, \"marylebone\": 1, \"covered\": 1, \"length\": 1, \"pitch\": 1, \"distance\": 1, \"creases\": 1, \"wicket\": 1, \"size\": 1, \"weight\": 1, \"1760\": 1, \"evolution\": 2, \"over\": 3, \"arm\": 2, \"bowling\": 5, \"replacing\": 1, \"main\": 1, \"deliver\": 1, \"see\": 2, \"use\": 2, \"various\": 1, \"lengths\": 1, \"utilised\": 1, \"bowlers\": 1, \"development\": 1, \"craft\": 1, \"batting\": 1, \"batters\": 1, \"respond\": 1, \"new\": 7, \"techniques\": 2, \"\\\\u2018straight\": 1, \"bat\\\\u2019\": 1, \"introduced\": 1, \"counter\": 1, \"old\": 1, \"bent\": 1, \"\\\\u2018hockey\": 1, \"stick\\\\u2019\": 1, \"style\": 1, \"bat\": 1, \"went\": 2, \"out\": 2, \"fashion\": 1, \"pictures\": 1, \"here\": 1, \"from\": 6, \"display\": 1, \"lords\": 1, \"museum\": 1, \"show\": 1, \"bats\": 1, \"global\": 1, \"britains\\\\u2019\": 1, \"imperialist\": 1, \"ambitions\": 1, \"navy\": 1, \"army\": 1, \"instrumental\": 1, \"colonies\": 1, \"america\": 1, \"1800\\\\u2019s\": 1, \"reached\": 2, \"west\": 2, \"indies\": 2, \"india\": 2, \"inception\": 1, \"colonization\": 1, \"australia\": 7, \"19th\": 1, \"south\": 4, \"africaand\": 1, \"zealand\": 2, \"international\": 4, \"york\": 1, \"1844\": 1, \"canada\": 1, \"united\": 1, \"states\": 1, \"1868\": 1, \"australian\": 2, \"aboriginal\": 1, \"toured\": 1, \"1877\": 1, \"against\": 2, \"begin\": 1, \"oldest\": 1, \"rivalry\": 1, \"1882\": 1, \"lost\": 1, \"mock\": 1, \"obituary\": 1, \"written\": 1, \"melbourne\": 1, \"ladies\": 1, \"burnt\": 1, \"bail\": 1, \"presented\": 1, \"captain\": 1, \"urn\": 2, \"ashes\": 1, \"longest\": 1, \"running\": 1, \"saga\": 1, \"sides\": 2, \"off\": 1, \"every\": 1, \"years\": 2, \"fabled\": 1, \"1889\": 1, \"africa\": 3, \"third\": 1, \"test\": 3, \"nation\": 1, \"1900\": 1, \"made\": 1, \"one\": 3, \"only\": 4, \"appearance\": 1, \"olympics\": 3, \"france\": 1, \"won\": 2, \"although\": 1, \"interestingly\": 1, \"looks\": 1, \"if\": 1, \"may\": 1, \"re\": 1, \"admitted\": 1, \"shortest\": 1, \"form\": 1, \"20\": 2, \"1909\": 1, \"imperial\": 1, \"conference\": 1, \"formed\": 1, \"administrate\": 1, \"primarily\": 1, \"perspective\": 1, \"founder\": 1, \"members\": 1, \"nations\": 3, \"before\": 1, \"second\": 3, \"ww\": 1, \"pakistan\": 1, \"joining\": 1, \"affiliate\": 1, \"like\": 1, \"sri\": 1, \"lanka\": 1, \"formerly\": 1, \"ceylon\": 1, \"zimababwe\": 1, \"bangladesh\": 1, \"toward\": 1, \"end\": 1, \"twentieth\": 2, \"crises\": 2, \"major\": 1, \"initially\": 1, \"bodyline\": 1, \"series\": 3, \"1932\": 1, \"33\": 1, \"englands\\\\u2019\": 1, \"method\": 1, \"countering\": 1, \"genius\": 1, \"don\": 1, \"bradman\": 1, \"lead\": 1, \"bowl\": 1, \"leg\": 1, \"short\": 1, \"pitched\": 1, \"australians\": 1, \"deemed\": 1, \"\\\\u2018not\": 1, \"event\": 2, \"such\": 1, \"proportions\": 1, \"threatened\": 1, \"take\": 1, \"political\": 1, \"action\": 1, \"so\": 1, \"disturbed\": 1, \"1970\\\\u2019s\": 3, \"d\\\\u2019oliveira\": 2, \"affair\": 1, \"blew\": 1, \"stage\": 1, \"twenty\": 5, \"refused\": 1, \"receive\": 1, \"team\": 1, \"cape\": 1, \"coloured\": 2, \"basil\": 1, \"racist\": 1, \"policies\": 1, \"cast\": 1, \"wilderness\": 1, \"return\": 1, \"release\": 1, \"nelson\": 1, \"mandela\": 1, \"institution\": 1, \"multi\": 1, \"racial\": 1, \"1960\\\\u2019s\": 1, \"70\\\\u2019s\": 1, \"introduction\": 1, \"single\": 1, \"innings\": 1, \"limited\": 1, \"these\": 1, \"proved\": 1, \"hugely\": 1, \"popular\": 1, \"day\": 2, \"1971\": 1, \"mid\": 1, \"media\": 1, \"mogul\": 1, \"kerry\": 1, \"packer\": 2, \"bought\": 1, \"worlds\": 3, \"cricketers\": 1, \"set\": 2, \"world\": 3, \"clothing\": 1, \"took\": 1, \"establishment\": 1, \"legal\": 1, \"battle\": 1, \"right\": 1, \"host\": 1, \"televise\": 1, \"long\": 1, \"professionalising\": 1, \"allowing\": 1, \"living\": 1, \"wage\": 1, \"profession\": 1, \"technology\": 6, \"innovation\": 1, \"developed\": 1, \"some\": 1, \"innovations\": 1, \"tennis\": 1, \"american\": 1, \"football\": 2, \"bring\": 1, \"better\": 1, \"decision\": 1, \"making\": 2, \"umpires\": 3, \"highlight\": 1, \"areas\": 1, \"interest\": 1, \"tv\": 1, \"audience\": 2, \"slow\": 1, \"motion\": 1, \"replays\": 1, \"specialist\": 1, \"camera\": 1, \"angles\": 1, \"has\": 2, \"space\": 1, \"age\": 1, \"\\\\u2018stump\": 1, \"cams\\\\u2019\": 1, \"\\\\u2019hot\": 1, \"spots\\\\u2019\": 1, \"\\\\u2018hawk\": 1, \"eye\\\\u2019\": 1, \"derived\": 1, \"modern\": 1, \"warfare\": 1, \"whether\": 2, \"improved\": 1, \"decison\": 1, \"remains\": 1, \"breakdowns\": 1, \"application\": 1, \"lack\": 1, \"uniform\": 1, \"roll\": 1, \"across\": 1, \"all\": 1, \"undermines\": 1, \"credibility\": 1, \"t20\": 1, \"rebirth\": 1, \"death\": 1, \"we\": 1, \"know\": 1, \"2000\\\\u2019s\": 1, \"literally\": 1, \"exploded\": 1, \"market\": 2, \"places\": 1, \"target\": 1, \"spectacularly\": 1, \"seized\": 1, \"upon\": 1, \"bcci\": 1, \"2007\": 1, \"cup\": 1, \"indian\": 1, \"premier\": 2, \"league\": 2, \"modelled\": 1, \"competition\": 1, \"biggest\": 2, \"sporting\": 1, \"because\": 1, \"india\\\\u2019s\": 1, \"vast\": 1, \"population\": 1, \"sub\": 1, \"continent\": 1, \"marketplace\": 1, \"how\": 1, \"grows\": 1, \"will\": 2, \"remain\": 1, \"consumes\": 1, \"itself\": 1, \"overkill\": 1, \"goes\": 1, \"21st\": 1, \"tell\": 1}'"
            ],
            "application/vnd.google.colaboratory.intrinsic+json": {
              "type": "string"
            }
          },
          "metadata": {},
          "execution_count": 6
        }
      ]
    },
    {
      "cell_type": "code",
      "source": [
        "tokenizer.word_index"
      ],
      "metadata": {
        "colab": {
          "base_uri": "https://localhost:8080/"
        },
        "id": "Cj3C0xtXyTZf",
        "outputId": "a8a66a3b-e4a4-435d-d769-af92aaf6f6d3"
      },
      "execution_count": 7,
      "outputs": [
        {
          "output_type": "execute_result",
          "data": {
            "text/plain": [
              "{'the': 1,\n",
              " 'in': 2,\n",
              " 'of': 3,\n",
              " 'and': 4,\n",
              " 'to': 5,\n",
              " 'cricket': 6,\n",
              " 'as': 7,\n",
              " 'game': 8,\n",
              " 'it': 9,\n",
              " 'a': 10,\n",
              " 'for': 11,\n",
              " 'with': 12,\n",
              " 'were': 13,\n",
              " 'england': 14,\n",
              " 'was': 15,\n",
              " 'its': 16,\n",
              " 'played': 17,\n",
              " 'by': 18,\n",
              " 'that': 19,\n",
              " 'had': 20,\n",
              " 'at': 21,\n",
              " 'is': 22,\n",
              " 'being': 23,\n",
              " 'games': 24,\n",
              " 'saw': 25,\n",
              " 'they': 26,\n",
              " 'new': 27,\n",
              " 'australia': 28,\n",
              " 'english': 29,\n",
              " 'playing': 30,\n",
              " 'first': 31,\n",
              " 'an': 32,\n",
              " 'be': 33,\n",
              " 'between': 34,\n",
              " 'from': 35,\n",
              " 'technology': 36,\n",
              " 'or': 37,\n",
              " 'time': 38,\n",
              " 'this': 39,\n",
              " 'aristocracy': 40,\n",
              " 'recorded': 41,\n",
              " 'century': 42,\n",
              " 'two': 43,\n",
              " 'on': 44,\n",
              " 'after': 45,\n",
              " 'bowling': 46,\n",
              " 'twenty': 47,\n",
              " 'have': 48,\n",
              " 'been': 49,\n",
              " 'their': 50,\n",
              " 'club': 51,\n",
              " 'them': 52,\n",
              " 'classes': 53,\n",
              " 'teams': 54,\n",
              " 'up': 55,\n",
              " 'match': 56,\n",
              " 'players': 57,\n",
              " 'into': 58,\n",
              " 'began': 59,\n",
              " 'spread': 60,\n",
              " 'south': 61,\n",
              " 'international': 62,\n",
              " 'only': 63,\n",
              " 'edward': 64,\n",
              " 'cricket’': 65,\n",
              " 'word': 66,\n",
              " 'ball': 67,\n",
              " 'there': 68,\n",
              " 'play': 69,\n",
              " 'men': 70,\n",
              " 'way': 71,\n",
              " 'seen': 72,\n",
              " 'side': 73,\n",
              " 'best': 74,\n",
              " 'become': 75,\n",
              " 'staged': 76,\n",
              " 'field': 77,\n",
              " 'brought': 78,\n",
              " 'now': 79,\n",
              " 'laws': 80,\n",
              " 'over': 81,\n",
              " 'africa': 82,\n",
              " 'test': 83,\n",
              " 'one': 84,\n",
              " 'olympics': 85,\n",
              " 'nations': 86,\n",
              " 'second': 87,\n",
              " 'series': 88,\n",
              " '1970’s': 89,\n",
              " 'worlds': 90,\n",
              " 'world': 91,\n",
              " 'umpires': 92,\n",
              " 'history': 93,\n",
              " 'particularly': 94,\n",
              " 'born': 95,\n",
              " 'iii': 96,\n",
              " 'similar': 97,\n",
              " 'his': 98,\n",
              " 'during': 99,\n",
              " 'invasion': 100,\n",
              " 'sought': 101,\n",
              " '‘creag’': 102,\n",
              " 'then': 103,\n",
              " 'other': 104,\n",
              " 'found': 105,\n",
              " 'gambling': 106,\n",
              " 'working': 107,\n",
              " 'attending': 108,\n",
              " 'church': 109,\n",
              " 'continued': 110,\n",
              " 'became': 111,\n",
              " 'growth': 112,\n",
              " 'assembled': 113,\n",
              " 'under': 114,\n",
              " 'purses': 115,\n",
              " '‘great': 116,\n",
              " 'matches’': 117,\n",
              " '‘': 118,\n",
              " 'rural': 119,\n",
              " 'workers': 120,\n",
              " 'beginning': 121,\n",
              " 'early': 122,\n",
              " '1700’s': 123,\n",
              " 'class': 124,\n",
              " 'employ': 125,\n",
              " 'thus': 126,\n",
              " 'who': 127,\n",
              " 'london': 128,\n",
              " 'north': 129,\n",
              " 'lay': 130,\n",
              " 'claim': 131,\n",
              " 'matches': 132,\n",
              " 'white': 133,\n",
              " 'conduit': 134,\n",
              " 'part': 135,\n",
              " 'area': 136,\n",
              " 'hambledon': 137,\n",
              " 'where': 138,\n",
              " 'spirit': 139,\n",
              " '1788': 140,\n",
              " 'evolution': 141,\n",
              " 'arm': 142,\n",
              " 'see': 143,\n",
              " 'use': 144,\n",
              " 'techniques': 145,\n",
              " 'went': 146,\n",
              " 'out': 147,\n",
              " 'reached': 148,\n",
              " 'west': 149,\n",
              " 'indies': 150,\n",
              " 'india': 151,\n",
              " 'zealand': 152,\n",
              " 'australian': 153,\n",
              " 'against': 154,\n",
              " 'urn': 155,\n",
              " 'sides': 156,\n",
              " 'years': 157,\n",
              " 'won': 158,\n",
              " '20': 159,\n",
              " 'twentieth': 160,\n",
              " 'crises': 161,\n",
              " 'event': 162,\n",
              " 'd’oliveira': 163,\n",
              " 'coloured': 164,\n",
              " 'day': 165,\n",
              " 'packer': 166,\n",
              " 'set': 167,\n",
              " 'football': 168,\n",
              " 'making': 169,\n",
              " 'audience': 170,\n",
              " 'has': 171,\n",
              " 'whether': 172,\n",
              " 'market': 173,\n",
              " 'premier': 174,\n",
              " 'league': 175,\n",
              " 'biggest': 176,\n",
              " 'will': 177,\n",
              " 'murky': 178,\n",
              " 'vague': 179,\n",
              " 'exact': 180,\n",
              " 'origins': 181,\n",
              " 'believed': 182,\n",
              " 'late': 183,\n",
              " 'middle': 184,\n",
              " 'ages': 185,\n",
              " 'banned': 186,\n",
              " '1369': 187,\n",
              " '‘pila': 188,\n",
              " 'baculorea’': 189,\n",
              " '‘club': 190,\n",
              " 'ball’': 191,\n",
              " 'known': 192,\n",
              " 'he': 193,\n",
              " 'distraction': 194,\n",
              " 'war': 195,\n",
              " 'effort': 196,\n",
              " 'derek': 197,\n",
              " 'birley': 198,\n",
              " 'wonderful': 199,\n",
              " 'book': 200,\n",
              " '‘a': 201,\n",
              " 'social': 202,\n",
              " 'suggests': 203,\n",
              " 'came': 204,\n",
              " 'french': 205,\n",
              " 'norman': 206,\n",
              " '‘criquet’': 207,\n",
              " 'dialect': 208,\n",
              " 'name': 209,\n",
              " 'variation': 210,\n",
              " 'eradicate': 211,\n",
              " 'record': 212,\n",
              " 'derivative': 213,\n",
              " 'creaget': 214,\n",
              " '1299': 215,\n",
              " '1300': 216,\n",
              " 'royal': 217,\n",
              " 'wardrobe': 218,\n",
              " 'accounts': 219,\n",
              " 'prince': 220,\n",
              " 'ii': 221,\n",
              " 'no': 222,\n",
              " 'evidence': 223,\n",
              " 'creag': 224,\n",
              " 'same': 225,\n",
              " 'criquet': 226,\n",
              " 'links': 227,\n",
              " 'are': 228,\n",
              " 'too': 229,\n",
              " 'tenuous': 230,\n",
              " 'rarely': 231,\n",
              " 'appear': 232,\n",
              " 'any': 233,\n",
              " 'records': 234,\n",
              " 'unless': 235,\n",
              " 'trying': 236,\n",
              " 'eradicated': 237,\n",
              " 'morally': 238,\n",
              " 'degenerate': 239,\n",
              " 'schoolboys': 240,\n",
              " 'guildford': 241,\n",
              " 'sixteenth': 242,\n",
              " 'italian': 243,\n",
              " 'dictionary': 244,\n",
              " '1598': 245,\n",
              " '1611': 246,\n",
              " 'adults': 247,\n",
              " 'prosecuted': 248,\n",
              " 'instead': 249,\n",
              " 'theme': 250,\n",
              " '1628': 251,\n",
              " 'ten': 252,\n",
              " 'fined': 253,\n",
              " 'rather': 254,\n",
              " 'than': 255,\n",
              " 'service': 256,\n",
              " 'also': 257,\n",
              " 'make': 258,\n",
              " 'confession': 259,\n",
              " 'congregation': 260,\n",
              " 'penance': 261,\n",
              " 'evolve': 262,\n",
              " 'amongst': 263,\n",
              " 'central': 264,\n",
              " 'particular': 265,\n",
              " 'obvious': 266,\n",
              " 'attributes': 267,\n",
              " 'bet': 268,\n",
              " 'outcomes': 269,\n",
              " 'patronage': 270,\n",
              " 'aristocrats': 271,\n",
              " 'put': 272,\n",
              " '1696': 273,\n",
              " 'great': 274,\n",
              " 'sussex': 275,\n",
              " 'eleven': 276,\n",
              " 'fifty': 277,\n",
              " 'guineas': 278,\n",
              " 'apiece’': 279,\n",
              " 'growing': 280,\n",
              " 'both': 281,\n",
              " 'within': 282,\n",
              " 'upper': 283,\n",
              " 'genuine': 284,\n",
              " 'recreational': 285,\n",
              " 'past': 286,\n",
              " 'southern': 287,\n",
              " 'counties': 288,\n",
              " 'composite': 289,\n",
              " 'period': 290,\n",
              " 'crossing': 291,\n",
              " 'divides': 292,\n",
              " 'encouraged': 293,\n",
              " 'nobility': 294,\n",
              " 'patronizing': 295,\n",
              " 'could': 296,\n",
              " 'adept': 297,\n",
              " 'employed': 298,\n",
              " '‘hands’': 299,\n",
              " 'travelling': 300,\n",
              " 'can': 301,\n",
              " 'cradle': 302,\n",
              " 'islington': 303,\n",
              " '‘field': 304,\n",
              " 'keeper’': 305,\n",
              " 'angel': 306,\n",
              " 'inn': 307,\n",
              " 'amenities': 308,\n",
              " '1718': 309,\n",
              " 'law': 310,\n",
              " 'courts': 311,\n",
              " 'dispute': 312,\n",
              " '‘cradle': 313,\n",
              " 'hampshire': 314,\n",
              " 'broad': 315,\n",
              " 'down': 316,\n",
              " 'halfpenny': 317,\n",
              " 'assume': 318,\n",
              " 'truly': 319,\n",
              " 'skilful': 320,\n",
              " 'scientific': 321,\n",
              " 'character': 322,\n",
              " 'which': 323,\n",
              " 'possesses': 324,\n",
              " '’': 325,\n",
              " 'immortalised': 326,\n",
              " 'writing': 327,\n",
              " 'john': 328,\n",
              " 'nyren': 329,\n",
              " 'captured': 330,\n",
              " 'segregation': 331,\n",
              " 'rich': 332,\n",
              " 'varied': 333,\n",
              " 'life': 334,\n",
              " 'through': 335,\n",
              " 'provincial': 336,\n",
              " 'towns': 337,\n",
              " 'grew': 338,\n",
              " 'industrialization': 339,\n",
              " 'yorkshire': 340,\n",
              " '1750’s': 341,\n",
              " '1744': 342,\n",
              " 'codified': 343,\n",
              " 'revised': 344,\n",
              " 'marylebone': 345,\n",
              " 'covered': 346,\n",
              " 'length': 347,\n",
              " 'pitch': 348,\n",
              " 'distance': 349,\n",
              " 'creases': 350,\n",
              " 'wicket': 351,\n",
              " 'size': 352,\n",
              " 'weight': 353,\n",
              " '1760': 354,\n",
              " 'replacing': 355,\n",
              " 'main': 356,\n",
              " 'deliver': 357,\n",
              " 'various': 358,\n",
              " 'lengths': 359,\n",
              " 'utilised': 360,\n",
              " 'bowlers': 361,\n",
              " 'development': 362,\n",
              " 'craft': 363,\n",
              " 'batting': 364,\n",
              " 'batters': 365,\n",
              " 'respond': 366,\n",
              " '‘straight': 367,\n",
              " 'bat’': 368,\n",
              " 'introduced': 369,\n",
              " 'counter': 370,\n",
              " 'old': 371,\n",
              " 'bent': 372,\n",
              " '‘hockey': 373,\n",
              " 'stick’': 374,\n",
              " 'style': 375,\n",
              " 'bat': 376,\n",
              " 'fashion': 377,\n",
              " 'pictures': 378,\n",
              " 'here': 379,\n",
              " 'display': 380,\n",
              " 'lords': 381,\n",
              " 'museum': 382,\n",
              " 'show': 383,\n",
              " 'bats': 384,\n",
              " 'global': 385,\n",
              " 'britains’': 386,\n",
              " 'imperialist': 387,\n",
              " 'ambitions': 388,\n",
              " 'navy': 389,\n",
              " 'army': 390,\n",
              " 'instrumental': 391,\n",
              " 'colonies': 392,\n",
              " 'america': 393,\n",
              " '1800’s': 394,\n",
              " 'inception': 395,\n",
              " 'colonization': 396,\n",
              " '19th': 397,\n",
              " 'africaand': 398,\n",
              " 'york': 399,\n",
              " '1844': 400,\n",
              " 'canada': 401,\n",
              " 'united': 402,\n",
              " 'states': 403,\n",
              " '1868': 404,\n",
              " 'aboriginal': 405,\n",
              " 'toured': 406,\n",
              " '1877': 407,\n",
              " 'begin': 408,\n",
              " 'oldest': 409,\n",
              " 'rivalry': 410,\n",
              " '1882': 411,\n",
              " 'lost': 412,\n",
              " 'mock': 413,\n",
              " 'obituary': 414,\n",
              " 'written': 415,\n",
              " 'melbourne': 416,\n",
              " 'ladies': 417,\n",
              " 'burnt': 418,\n",
              " 'bail': 419,\n",
              " 'presented': 420,\n",
              " 'captain': 421,\n",
              " 'ashes': 422,\n",
              " 'longest': 423,\n",
              " 'running': 424,\n",
              " 'saga': 425,\n",
              " 'off': 426,\n",
              " 'every': 427,\n",
              " 'fabled': 428,\n",
              " '1889': 429,\n",
              " 'third': 430,\n",
              " 'nation': 431,\n",
              " '1900': 432,\n",
              " 'made': 433,\n",
              " 'appearance': 434,\n",
              " 'france': 435,\n",
              " 'although': 436,\n",
              " 'interestingly': 437,\n",
              " 'looks': 438,\n",
              " 'if': 439,\n",
              " 'may': 440,\n",
              " 're': 441,\n",
              " 'admitted': 442,\n",
              " 'shortest': 443,\n",
              " 'form': 444,\n",
              " '1909': 445,\n",
              " 'imperial': 446,\n",
              " 'conference': 447,\n",
              " 'formed': 448,\n",
              " 'administrate': 449,\n",
              " 'primarily': 450,\n",
              " 'perspective': 451,\n",
              " 'founder': 452,\n",
              " 'members': 453,\n",
              " 'before': 454,\n",
              " 'ww': 455,\n",
              " 'pakistan': 456,\n",
              " 'joining': 457,\n",
              " 'affiliate': 458,\n",
              " 'like': 459,\n",
              " 'sri': 460,\n",
              " 'lanka': 461,\n",
              " 'formerly': 462,\n",
              " 'ceylon': 463,\n",
              " 'zimababwe': 464,\n",
              " 'bangladesh': 465,\n",
              " 'toward': 466,\n",
              " 'end': 467,\n",
              " 'major': 468,\n",
              " 'initially': 469,\n",
              " 'bodyline': 470,\n",
              " '1932': 471,\n",
              " '33': 472,\n",
              " 'englands’': 473,\n",
              " 'method': 474,\n",
              " 'countering': 475,\n",
              " 'genius': 476,\n",
              " 'don': 477,\n",
              " 'bradman': 478,\n",
              " 'lead': 479,\n",
              " 'bowl': 480,\n",
              " 'leg': 481,\n",
              " 'short': 482,\n",
              " 'pitched': 483,\n",
              " 'australians': 484,\n",
              " 'deemed': 485,\n",
              " '‘not': 486,\n",
              " 'such': 487,\n",
              " 'proportions': 488,\n",
              " 'threatened': 489,\n",
              " 'take': 490,\n",
              " 'political': 491,\n",
              " 'action': 492,\n",
              " 'so': 493,\n",
              " 'disturbed': 494,\n",
              " 'affair': 495,\n",
              " 'blew': 496,\n",
              " 'stage': 497,\n",
              " 'refused': 498,\n",
              " 'receive': 499,\n",
              " 'team': 500,\n",
              " 'cape': 501,\n",
              " 'basil': 502,\n",
              " 'racist': 503,\n",
              " 'policies': 504,\n",
              " 'cast': 505,\n",
              " 'wilderness': 506,\n",
              " 'return': 507,\n",
              " 'release': 508,\n",
              " 'nelson': 509,\n",
              " 'mandela': 510,\n",
              " 'institution': 511,\n",
              " 'multi': 512,\n",
              " 'racial': 513,\n",
              " '1960’s': 514,\n",
              " '70’s': 515,\n",
              " 'introduction': 516,\n",
              " 'single': 517,\n",
              " 'innings': 518,\n",
              " 'limited': 519,\n",
              " 'these': 520,\n",
              " 'proved': 521,\n",
              " 'hugely': 522,\n",
              " 'popular': 523,\n",
              " '1971': 524,\n",
              " 'mid': 525,\n",
              " 'media': 526,\n",
              " 'mogul': 527,\n",
              " 'kerry': 528,\n",
              " 'bought': 529,\n",
              " 'cricketers': 530,\n",
              " 'clothing': 531,\n",
              " 'took': 532,\n",
              " 'establishment': 533,\n",
              " 'legal': 534,\n",
              " 'battle': 535,\n",
              " 'right': 536,\n",
              " 'host': 537,\n",
              " 'televise': 538,\n",
              " 'long': 539,\n",
              " 'professionalising': 540,\n",
              " 'allowing': 541,\n",
              " 'living': 542,\n",
              " 'wage': 543,\n",
              " 'profession': 544,\n",
              " 'innovation': 545,\n",
              " 'developed': 546,\n",
              " 'some': 547,\n",
              " 'innovations': 548,\n",
              " 'tennis': 549,\n",
              " 'american': 550,\n",
              " 'bring': 551,\n",
              " 'better': 552,\n",
              " 'decision': 553,\n",
              " 'highlight': 554,\n",
              " 'areas': 555,\n",
              " 'interest': 556,\n",
              " 'tv': 557,\n",
              " 'slow': 558,\n",
              " 'motion': 559,\n",
              " 'replays': 560,\n",
              " 'specialist': 561,\n",
              " 'camera': 562,\n",
              " 'angles': 563,\n",
              " 'space': 564,\n",
              " 'age': 565,\n",
              " '‘stump': 566,\n",
              " 'cams’': 567,\n",
              " '’hot': 568,\n",
              " 'spots’': 569,\n",
              " '‘hawk': 570,\n",
              " 'eye’': 571,\n",
              " 'derived': 572,\n",
              " 'modern': 573,\n",
              " 'warfare': 574,\n",
              " 'improved': 575,\n",
              " 'decison': 576,\n",
              " 'remains': 577,\n",
              " 'breakdowns': 578,\n",
              " 'application': 579,\n",
              " 'lack': 580,\n",
              " 'uniform': 581,\n",
              " 'roll': 582,\n",
              " 'across': 583,\n",
              " 'all': 584,\n",
              " 'undermines': 585,\n",
              " 'credibility': 586,\n",
              " 't20': 587,\n",
              " 'rebirth': 588,\n",
              " 'death': 589,\n",
              " 'we': 590,\n",
              " 'know': 591,\n",
              " '2000’s': 592,\n",
              " 'literally': 593,\n",
              " 'exploded': 594,\n",
              " 'places': 595,\n",
              " 'target': 596,\n",
              " 'spectacularly': 597,\n",
              " 'seized': 598,\n",
              " 'upon': 599,\n",
              " 'bcci': 600,\n",
              " '2007': 601,\n",
              " 'cup': 602,\n",
              " 'indian': 603,\n",
              " 'modelled': 604,\n",
              " 'competition': 605,\n",
              " 'sporting': 606,\n",
              " 'because': 607,\n",
              " 'india’s': 608,\n",
              " 'vast': 609,\n",
              " 'population': 610,\n",
              " 'sub': 611,\n",
              " 'continent': 612,\n",
              " 'marketplace': 613,\n",
              " 'how': 614,\n",
              " 'grows': 615,\n",
              " 'remain': 616,\n",
              " 'consumes': 617,\n",
              " 'itself': 618,\n",
              " 'overkill': 619,\n",
              " 'goes': 620,\n",
              " '21st': 621,\n",
              " 'tell': 622}"
            ]
          },
          "metadata": {},
          "execution_count": 7
        }
      ]
    },
    {
      "cell_type": "code",
      "source": [
        "input_sequences = []\n",
        "for sentence in cricket_history.split('\\n'):\n",
        "    token_list = tokenizer.texts_to_sequences([sentence])[0]\n",
        "    for i in range(1, len(token_list)):\n",
        "        sequence = token_list[:i+1]\n",
        "        input_sequences.append(sequence)"
      ],
      "metadata": {
        "id": "9fz15oF9yVsP"
      },
      "execution_count": 8,
      "outputs": []
    },
    {
      "cell_type": "code",
      "source": [
        "input_sequences[:5]"
      ],
      "metadata": {
        "colab": {
          "base_uri": "https://localhost:8080/"
        },
        "id": "BWjnCxp0L_lE",
        "outputId": "a6b942b9-244b-4977-cbac-d13233eb7a0a"
      },
      "execution_count": 9,
      "outputs": [
        {
          "output_type": "execute_result",
          "data": {
            "text/plain": [
              "[[6, 93],\n",
              " [6, 93, 22],\n",
              " [6, 93, 22, 94],\n",
              " [6, 93, 22, 94, 178],\n",
              " [6, 93, 22, 94, 178, 4]]"
            ]
          },
          "metadata": {},
          "execution_count": 9
        }
      ]
    },
    {
      "cell_type": "code",
      "source": [
        "max_length = max([len(input_sequence) for input_sequence in input_sequences])\n",
        "max_length"
      ],
      "metadata": {
        "colab": {
          "base_uri": "https://localhost:8080/"
        },
        "id": "9wRraxCOM-9k",
        "outputId": "8bcddf46-55ac-46b8-c95a-28409ad383e0"
      },
      "execution_count": 10,
      "outputs": [
        {
          "output_type": "execute_result",
          "data": {
            "text/plain": [
              "55"
            ]
          },
          "metadata": {},
          "execution_count": 10
        }
      ]
    },
    {
      "cell_type": "code",
      "source": [
        "# add padding\n",
        "input_sequences = np.array(tf.keras.preprocessing.sequence.pad_sequences(input_sequences, maxlen=max_length, padding='pre'))"
      ],
      "metadata": {
        "id": "b2-49gwjyflF"
      },
      "execution_count": 11,
      "outputs": []
    },
    {
      "cell_type": "code",
      "source": [
        "input_sequences[1]"
      ],
      "metadata": {
        "colab": {
          "base_uri": "https://localhost:8080/"
        },
        "id": "PPOPhp61NhAz",
        "outputId": "9644053f-ca31-4c3f-90ac-b5a9bd430c20"
      },
      "execution_count": 12,
      "outputs": [
        {
          "output_type": "execute_result",
          "data": {
            "text/plain": [
              "array([ 0,  0,  0,  0,  0,  0,  0,  0,  0,  0,  0,  0,  0,  0,  0,  0,  0,\n",
              "        0,  0,  0,  0,  0,  0,  0,  0,  0,  0,  0,  0,  0,  0,  0,  0,  0,\n",
              "        0,  0,  0,  0,  0,  0,  0,  0,  0,  0,  0,  0,  0,  0,  0,  0,  0,\n",
              "        0,  6, 93, 22], dtype=int32)"
            ]
          },
          "metadata": {},
          "execution_count": 12
        }
      ]
    },
    {
      "cell_type": "code",
      "source": [
        "# divide dataset into feature set (X) and labels (y)\n",
        "X = input_sequences[:, :-1]\n",
        "y = input_sequences[:, -1]"
      ],
      "metadata": {
        "id": "5Hyniqzgylho"
      },
      "execution_count": 13,
      "outputs": []
    },
    {
      "cell_type": "code",
      "source": [
        "X[0]"
      ],
      "metadata": {
        "colab": {
          "base_uri": "https://localhost:8080/"
        },
        "id": "H2KTRiMpyoGU",
        "outputId": "7e149567-f32f-4139-eff0-fad21f7aab58"
      },
      "execution_count": 14,
      "outputs": [
        {
          "output_type": "execute_result",
          "data": {
            "text/plain": [
              "array([0, 0, 0, 0, 0, 0, 0, 0, 0, 0, 0, 0, 0, 0, 0, 0, 0, 0, 0, 0, 0, 0,\n",
              "       0, 0, 0, 0, 0, 0, 0, 0, 0, 0, 0, 0, 0, 0, 0, 0, 0, 0, 0, 0, 0, 0,\n",
              "       0, 0, 0, 0, 0, 0, 0, 0, 0, 6], dtype=int32)"
            ]
          },
          "metadata": {},
          "execution_count": 14
        }
      ]
    },
    {
      "cell_type": "code",
      "source": [
        "y"
      ],
      "metadata": {
        "colab": {
          "base_uri": "https://localhost:8080/"
        },
        "id": "N_x_JJaZypyZ",
        "outputId": "25ceb680-fff0-4915-e39e-d5a84aa55b0f"
      },
      "execution_count": 15,
      "outputs": [
        {
          "output_type": "execute_result",
          "data": {
            "text/plain": [
              "array([ 93,  22,  94, ...,  38, 177, 622], dtype=int32)"
            ]
          },
          "metadata": {},
          "execution_count": 15
        }
      ]
    },
    {
      "cell_type": "code",
      "source": [
        "# number of words\n",
        "num_classes = len(tokenizer.word_index)+1"
      ],
      "metadata": {
        "id": "Aj_A7RNPOgD6"
      },
      "execution_count": 16,
      "outputs": []
    },
    {
      "cell_type": "code",
      "source": [
        "# one-hot encoding labels\n",
        "y = np.array(tf.keras.utils.to_categorical(y, num_classes=num_classes))"
      ],
      "metadata": {
        "id": "6_eFedJNyrwo"
      },
      "execution_count": 17,
      "outputs": []
    },
    {
      "cell_type": "code",
      "source": [
        "y[1]"
      ],
      "metadata": {
        "colab": {
          "base_uri": "https://localhost:8080/"
        },
        "id": "uiBwVPLjyugy",
        "outputId": "b9b25867-106d-4691-b71f-318840b527a3"
      },
      "execution_count": 18,
      "outputs": [
        {
          "output_type": "execute_result",
          "data": {
            "text/plain": [
              "array([0., 0., 0., 0., 0., 0., 0., 0., 0., 0., 0., 0., 0., 0., 0., 0., 0.,\n",
              "       0., 0., 0., 0., 0., 1., 0., 0., 0., 0., 0., 0., 0., 0., 0., 0., 0.,\n",
              "       0., 0., 0., 0., 0., 0., 0., 0., 0., 0., 0., 0., 0., 0., 0., 0., 0.,\n",
              "       0., 0., 0., 0., 0., 0., 0., 0., 0., 0., 0., 0., 0., 0., 0., 0., 0.,\n",
              "       0., 0., 0., 0., 0., 0., 0., 0., 0., 0., 0., 0., 0., 0., 0., 0., 0.,\n",
              "       0., 0., 0., 0., 0., 0., 0., 0., 0., 0., 0., 0., 0., 0., 0., 0., 0.,\n",
              "       0., 0., 0., 0., 0., 0., 0., 0., 0., 0., 0., 0., 0., 0., 0., 0., 0.,\n",
              "       0., 0., 0., 0., 0., 0., 0., 0., 0., 0., 0., 0., 0., 0., 0., 0., 0.,\n",
              "       0., 0., 0., 0., 0., 0., 0., 0., 0., 0., 0., 0., 0., 0., 0., 0., 0.,\n",
              "       0., 0., 0., 0., 0., 0., 0., 0., 0., 0., 0., 0., 0., 0., 0., 0., 0.,\n",
              "       0., 0., 0., 0., 0., 0., 0., 0., 0., 0., 0., 0., 0., 0., 0., 0., 0.,\n",
              "       0., 0., 0., 0., 0., 0., 0., 0., 0., 0., 0., 0., 0., 0., 0., 0., 0.,\n",
              "       0., 0., 0., 0., 0., 0., 0., 0., 0., 0., 0., 0., 0., 0., 0., 0., 0.,\n",
              "       0., 0., 0., 0., 0., 0., 0., 0., 0., 0., 0., 0., 0., 0., 0., 0., 0.,\n",
              "       0., 0., 0., 0., 0., 0., 0., 0., 0., 0., 0., 0., 0., 0., 0., 0., 0.,\n",
              "       0., 0., 0., 0., 0., 0., 0., 0., 0., 0., 0., 0., 0., 0., 0., 0., 0.,\n",
              "       0., 0., 0., 0., 0., 0., 0., 0., 0., 0., 0., 0., 0., 0., 0., 0., 0.,\n",
              "       0., 0., 0., 0., 0., 0., 0., 0., 0., 0., 0., 0., 0., 0., 0., 0., 0.,\n",
              "       0., 0., 0., 0., 0., 0., 0., 0., 0., 0., 0., 0., 0., 0., 0., 0., 0.,\n",
              "       0., 0., 0., 0., 0., 0., 0., 0., 0., 0., 0., 0., 0., 0., 0., 0., 0.,\n",
              "       0., 0., 0., 0., 0., 0., 0., 0., 0., 0., 0., 0., 0., 0., 0., 0., 0.,\n",
              "       0., 0., 0., 0., 0., 0., 0., 0., 0., 0., 0., 0., 0., 0., 0., 0., 0.,\n",
              "       0., 0., 0., 0., 0., 0., 0., 0., 0., 0., 0., 0., 0., 0., 0., 0., 0.,\n",
              "       0., 0., 0., 0., 0., 0., 0., 0., 0., 0., 0., 0., 0., 0., 0., 0., 0.,\n",
              "       0., 0., 0., 0., 0., 0., 0., 0., 0., 0., 0., 0., 0., 0., 0., 0., 0.,\n",
              "       0., 0., 0., 0., 0., 0., 0., 0., 0., 0., 0., 0., 0., 0., 0., 0., 0.,\n",
              "       0., 0., 0., 0., 0., 0., 0., 0., 0., 0., 0., 0., 0., 0., 0., 0., 0.,\n",
              "       0., 0., 0., 0., 0., 0., 0., 0., 0., 0., 0., 0., 0., 0., 0., 0., 0.,\n",
              "       0., 0., 0., 0., 0., 0., 0., 0., 0., 0., 0., 0., 0., 0., 0., 0., 0.,\n",
              "       0., 0., 0., 0., 0., 0., 0., 0., 0., 0., 0., 0., 0., 0., 0., 0., 0.,\n",
              "       0., 0., 0., 0., 0., 0., 0., 0., 0., 0., 0., 0., 0., 0., 0., 0., 0.,\n",
              "       0., 0., 0., 0., 0., 0., 0., 0., 0., 0., 0., 0., 0., 0., 0., 0., 0.,\n",
              "       0., 0., 0., 0., 0., 0., 0., 0., 0., 0., 0., 0., 0., 0., 0., 0., 0.,\n",
              "       0., 0., 0., 0., 0., 0., 0., 0., 0., 0., 0., 0., 0., 0., 0., 0., 0.,\n",
              "       0., 0., 0., 0., 0., 0., 0., 0., 0., 0., 0., 0., 0., 0., 0., 0., 0.,\n",
              "       0., 0., 0., 0., 0., 0., 0., 0., 0., 0., 0., 0., 0., 0., 0., 0., 0.,\n",
              "       0., 0., 0., 0., 0., 0., 0., 0., 0., 0., 0.], dtype=float32)"
            ]
          },
          "metadata": {},
          "execution_count": 18
        }
      ]
    },
    {
      "cell_type": "code",
      "source": [
        "# model building\n",
        "model = tf.keras.models.Sequential()\n",
        "model.add(tf.keras.layers.Embedding(num_classes, 80, input_length=max_length-1))\n",
        "model.add(tf.keras.layers.LSTM(100))\n",
        "model.add(tf.keras.layers.Dense(num_classes, activation='softmax'))"
      ],
      "metadata": {
        "id": "PE4P5PCNyxHx"
      },
      "execution_count": 19,
      "outputs": []
    },
    {
      "cell_type": "code",
      "source": [
        "model.summary()"
      ],
      "metadata": {
        "colab": {
          "base_uri": "https://localhost:8080/"
        },
        "id": "P83BqEAnQK0Q",
        "outputId": "46cacc1b-66d9-4a88-b8b8-f672eeb837a6"
      },
      "execution_count": 20,
      "outputs": [
        {
          "output_type": "stream",
          "name": "stdout",
          "text": [
            "Model: \"sequential\"\n",
            "_________________________________________________________________\n",
            " Layer (type)                Output Shape              Param #   \n",
            "=================================================================\n",
            " embedding (Embedding)       (None, 54, 80)            49840     \n",
            "                                                                 \n",
            " lstm (LSTM)                 (None, 100)               72400     \n",
            "                                                                 \n",
            " dense (Dense)               (None, 623)               62923     \n",
            "                                                                 \n",
            "=================================================================\n",
            "Total params: 185163 (723.29 KB)\n",
            "Trainable params: 185163 (723.29 KB)\n",
            "Non-trainable params: 0 (0.00 Byte)\n",
            "_________________________________________________________________\n"
          ]
        }
      ]
    },
    {
      "cell_type": "code",
      "source": [
        "# compile the model\n",
        "model.compile(loss='categorical_crossentropy',\n",
        "              optimizer='adam',\n",
        "              metrics=['accuracy'])"
      ],
      "metadata": {
        "id": "JOWD_hPGy0Ky"
      },
      "execution_count": 21,
      "outputs": []
    },
    {
      "cell_type": "code",
      "source": [
        "# model training\n",
        "history = model.fit(X, y, epochs=100)"
      ],
      "metadata": {
        "colab": {
          "base_uri": "https://localhost:8080/"
        },
        "id": "4HYPZ2KmQ-iv",
        "outputId": "18d875b1-06cb-4aad-bbee-0ea9fb618739"
      },
      "execution_count": 22,
      "outputs": [
        {
          "output_type": "stream",
          "name": "stdout",
          "text": [
            "Epoch 1/100\n",
            "47/47 [==============================] - 8s 101ms/step - loss: 6.1235 - accuracy: 0.0823\n",
            "Epoch 2/100\n",
            "47/47 [==============================] - 3s 58ms/step - loss: 5.6412 - accuracy: 0.0911\n",
            "Epoch 3/100\n",
            "47/47 [==============================] - 2s 52ms/step - loss: 5.5605 - accuracy: 0.0911\n",
            "Epoch 4/100\n",
            "47/47 [==============================] - 2s 49ms/step - loss: 5.5054 - accuracy: 0.0911\n",
            "Epoch 5/100\n",
            "47/47 [==============================] - 2s 47ms/step - loss: 5.4318 - accuracy: 0.0911\n",
            "Epoch 6/100\n",
            "47/47 [==============================] - 3s 58ms/step - loss: 5.3507 - accuracy: 0.0911\n",
            "Epoch 7/100\n",
            "47/47 [==============================] - 3s 57ms/step - loss: 5.2707 - accuracy: 0.0911\n",
            "Epoch 8/100\n",
            "47/47 [==============================] - 2s 47ms/step - loss: 5.1952 - accuracy: 0.1026\n",
            "Epoch 9/100\n",
            "47/47 [==============================] - 2s 46ms/step - loss: 5.1103 - accuracy: 0.1221\n",
            "Epoch 10/100\n",
            "47/47 [==============================] - 2s 47ms/step - loss: 5.0263 - accuracy: 0.1309\n",
            "Epoch 11/100\n",
            "47/47 [==============================] - 2s 49ms/step - loss: 4.9381 - accuracy: 0.1417\n",
            "Epoch 12/100\n",
            "47/47 [==============================] - 3s 65ms/step - loss: 4.8466 - accuracy: 0.1484\n",
            "Epoch 13/100\n",
            "47/47 [==============================] - 2s 46ms/step - loss: 4.7480 - accuracy: 0.1559\n",
            "Epoch 14/100\n",
            "47/47 [==============================] - 2s 47ms/step - loss: 4.6513 - accuracy: 0.1721\n",
            "Epoch 15/100\n",
            "47/47 [==============================] - 2s 47ms/step - loss: 4.5572 - accuracy: 0.1714\n",
            "Epoch 16/100\n",
            "47/47 [==============================] - 2s 47ms/step - loss: 4.4559 - accuracy: 0.1795\n",
            "Epoch 17/100\n",
            "47/47 [==============================] - 3s 69ms/step - loss: 4.3623 - accuracy: 0.1849\n",
            "Epoch 18/100\n",
            "47/47 [==============================] - 2s 47ms/step - loss: 4.2705 - accuracy: 0.1883\n",
            "Epoch 19/100\n",
            "47/47 [==============================] - 2s 46ms/step - loss: 4.1716 - accuracy: 0.1957\n",
            "Epoch 20/100\n",
            "47/47 [==============================] - 2s 46ms/step - loss: 4.0790 - accuracy: 0.2078\n",
            "Epoch 21/100\n",
            "47/47 [==============================] - 2s 46ms/step - loss: 3.9847 - accuracy: 0.2166\n",
            "Epoch 22/100\n",
            "47/47 [==============================] - 3s 59ms/step - loss: 3.8869 - accuracy: 0.2254\n",
            "Epoch 23/100\n",
            "47/47 [==============================] - 3s 55ms/step - loss: 3.7891 - accuracy: 0.2375\n",
            "Epoch 24/100\n",
            "47/47 [==============================] - 2s 47ms/step - loss: 3.6900 - accuracy: 0.2571\n",
            "Epoch 25/100\n",
            "47/47 [==============================] - 2s 47ms/step - loss: 3.5950 - accuracy: 0.2699\n",
            "Epoch 26/100\n",
            "47/47 [==============================] - 2s 47ms/step - loss: 3.5004 - accuracy: 0.2767\n",
            "Epoch 27/100\n",
            "47/47 [==============================] - 2s 51ms/step - loss: 3.3967 - accuracy: 0.2989\n",
            "Epoch 28/100\n",
            "47/47 [==============================] - 3s 64ms/step - loss: 3.2991 - accuracy: 0.3178\n",
            "Epoch 29/100\n",
            "47/47 [==============================] - 2s 47ms/step - loss: 3.2033 - accuracy: 0.3381\n",
            "Epoch 30/100\n",
            "47/47 [==============================] - 2s 47ms/step - loss: 3.0988 - accuracy: 0.3610\n",
            "Epoch 31/100\n",
            "47/47 [==============================] - 2s 47ms/step - loss: 3.0027 - accuracy: 0.3738\n",
            "Epoch 32/100\n",
            "47/47 [==============================] - 2s 48ms/step - loss: 2.9092 - accuracy: 0.3941\n",
            "Epoch 33/100\n",
            "47/47 [==============================] - 4s 82ms/step - loss: 2.8049 - accuracy: 0.4217\n",
            "Epoch 34/100\n",
            "47/47 [==============================] - 4s 80ms/step - loss: 2.7107 - accuracy: 0.4467\n",
            "Epoch 35/100\n",
            "47/47 [==============================] - 2s 49ms/step - loss: 2.6105 - accuracy: 0.4750\n",
            "Epoch 36/100\n",
            "47/47 [==============================] - 2s 47ms/step - loss: 2.5183 - accuracy: 0.5007\n",
            "Epoch 37/100\n",
            "47/47 [==============================] - 3s 58ms/step - loss: 2.4221 - accuracy: 0.5229\n",
            "Epoch 38/100\n",
            "47/47 [==============================] - 3s 59ms/step - loss: 2.3318 - accuracy: 0.5371\n",
            "Epoch 39/100\n",
            "47/47 [==============================] - 2s 48ms/step - loss: 2.2439 - accuracy: 0.5776\n",
            "Epoch 40/100\n",
            "47/47 [==============================] - 2s 50ms/step - loss: 2.1558 - accuracy: 0.5951\n",
            "Epoch 41/100\n",
            "47/47 [==============================] - 2s 49ms/step - loss: 2.0712 - accuracy: 0.6174\n",
            "Epoch 42/100\n",
            "47/47 [==============================] - 3s 53ms/step - loss: 1.9868 - accuracy: 0.6430\n",
            "Epoch 43/100\n",
            "47/47 [==============================] - 3s 62ms/step - loss: 1.9061 - accuracy: 0.6626\n",
            "Epoch 44/100\n",
            "47/47 [==============================] - 2s 48ms/step - loss: 1.8275 - accuracy: 0.6856\n",
            "Epoch 45/100\n",
            "47/47 [==============================] - 2s 48ms/step - loss: 1.7499 - accuracy: 0.7051\n",
            "Epoch 46/100\n",
            "47/47 [==============================] - 2s 47ms/step - loss: 1.6764 - accuracy: 0.7227\n",
            "Epoch 47/100\n",
            "47/47 [==============================] - 2s 48ms/step - loss: 1.6031 - accuracy: 0.7443\n",
            "Epoch 48/100\n",
            "47/47 [==============================] - 3s 73ms/step - loss: 1.5353 - accuracy: 0.7449\n",
            "Epoch 49/100\n",
            "47/47 [==============================] - 2s 47ms/step - loss: 1.4681 - accuracy: 0.7699\n",
            "Epoch 50/100\n",
            "47/47 [==============================] - 2s 47ms/step - loss: 1.4059 - accuracy: 0.7874\n",
            "Epoch 51/100\n",
            "47/47 [==============================] - 2s 47ms/step - loss: 1.3438 - accuracy: 0.7976\n",
            "Epoch 52/100\n",
            "47/47 [==============================] - 2s 47ms/step - loss: 1.2832 - accuracy: 0.8198\n",
            "Epoch 53/100\n",
            "47/47 [==============================] - 3s 69ms/step - loss: 1.2287 - accuracy: 0.8225\n",
            "Epoch 54/100\n",
            "47/47 [==============================] - 2s 47ms/step - loss: 1.1750 - accuracy: 0.8360\n",
            "Epoch 55/100\n",
            "47/47 [==============================] - 2s 47ms/step - loss: 1.1237 - accuracy: 0.8381\n",
            "Epoch 56/100\n",
            "47/47 [==============================] - 2s 47ms/step - loss: 1.0713 - accuracy: 0.8529\n",
            "Epoch 57/100\n",
            "47/47 [==============================] - 2s 47ms/step - loss: 1.0275 - accuracy: 0.8603\n",
            "Epoch 58/100\n",
            "47/47 [==============================] - 3s 62ms/step - loss: 0.9803 - accuracy: 0.8745\n",
            "Epoch 59/100\n",
            "47/47 [==============================] - 3s 54ms/step - loss: 0.9409 - accuracy: 0.8772\n",
            "Epoch 60/100\n",
            "47/47 [==============================] - 2s 47ms/step - loss: 0.8998 - accuracy: 0.8833\n",
            "Epoch 61/100\n",
            "47/47 [==============================] - 2s 47ms/step - loss: 0.8602 - accuracy: 0.8927\n",
            "Epoch 62/100\n",
            "47/47 [==============================] - 2s 47ms/step - loss: 0.8225 - accuracy: 0.9035\n",
            "Epoch 63/100\n",
            "47/47 [==============================] - 3s 55ms/step - loss: 0.7876 - accuracy: 0.9123\n",
            "Epoch 64/100\n",
            "47/47 [==============================] - 3s 60ms/step - loss: 0.7562 - accuracy: 0.9076\n",
            "Epoch 65/100\n",
            "47/47 [==============================] - 2s 48ms/step - loss: 0.7239 - accuracy: 0.9157\n",
            "Epoch 66/100\n",
            "47/47 [==============================] - 2s 47ms/step - loss: 0.6933 - accuracy: 0.9224\n",
            "Epoch 67/100\n",
            "47/47 [==============================] - 2s 47ms/step - loss: 0.6666 - accuracy: 0.9278\n",
            "Epoch 68/100\n",
            "47/47 [==============================] - 2s 47ms/step - loss: 0.6383 - accuracy: 0.9265\n",
            "Epoch 69/100\n",
            "47/47 [==============================] - 3s 69ms/step - loss: 0.6107 - accuracy: 0.9318\n",
            "Epoch 70/100\n",
            "47/47 [==============================] - 2s 47ms/step - loss: 0.5867 - accuracy: 0.9339\n",
            "Epoch 71/100\n",
            "47/47 [==============================] - 2s 47ms/step - loss: 0.5615 - accuracy: 0.9386\n",
            "Epoch 72/100\n",
            "47/47 [==============================] - 2s 47ms/step - loss: 0.5391 - accuracy: 0.9420\n",
            "Epoch 73/100\n",
            "47/47 [==============================] - 2s 47ms/step - loss: 0.5174 - accuracy: 0.9467\n",
            "Epoch 74/100\n",
            "47/47 [==============================] - 3s 69ms/step - loss: 0.4964 - accuracy: 0.9487\n",
            "Epoch 75/100\n",
            "47/47 [==============================] - 2s 48ms/step - loss: 0.4743 - accuracy: 0.9480\n",
            "Epoch 76/100\n",
            "47/47 [==============================] - 2s 47ms/step - loss: 0.4574 - accuracy: 0.9514\n",
            "Epoch 77/100\n",
            "47/47 [==============================] - 2s 47ms/step - loss: 0.4376 - accuracy: 0.9548\n",
            "Epoch 78/100\n",
            "47/47 [==============================] - 2s 47ms/step - loss: 0.4237 - accuracy: 0.9602\n",
            "Epoch 79/100\n",
            "47/47 [==============================] - 3s 60ms/step - loss: 0.4054 - accuracy: 0.9595\n",
            "Epoch 80/100\n",
            "47/47 [==============================] - 3s 57ms/step - loss: 0.3902 - accuracy: 0.9588\n",
            "Epoch 81/100\n",
            "47/47 [==============================] - 2s 47ms/step - loss: 0.3752 - accuracy: 0.9663\n",
            "Epoch 82/100\n",
            "47/47 [==============================] - 2s 47ms/step - loss: 0.3605 - accuracy: 0.9656\n",
            "Epoch 83/100\n",
            "47/47 [==============================] - 2s 47ms/step - loss: 0.3468 - accuracy: 0.9683\n",
            "Epoch 84/100\n",
            "47/47 [==============================] - 3s 53ms/step - loss: 0.3326 - accuracy: 0.9676\n",
            "Epoch 85/100\n",
            "47/47 [==============================] - 3s 62ms/step - loss: 0.3203 - accuracy: 0.9710\n",
            "Epoch 86/100\n",
            "47/47 [==============================] - 2s 47ms/step - loss: 0.3088 - accuracy: 0.9730\n",
            "Epoch 87/100\n",
            "47/47 [==============================] - 2s 47ms/step - loss: 0.2980 - accuracy: 0.9730\n",
            "Epoch 88/100\n",
            "47/47 [==============================] - 2s 48ms/step - loss: 0.2854 - accuracy: 0.9750\n",
            "Epoch 89/100\n",
            "47/47 [==============================] - 2s 48ms/step - loss: 0.2749 - accuracy: 0.9764\n",
            "Epoch 90/100\n",
            "47/47 [==============================] - 3s 70ms/step - loss: 0.2660 - accuracy: 0.9764\n",
            "Epoch 91/100\n",
            "47/47 [==============================] - 2s 47ms/step - loss: 0.2574 - accuracy: 0.9771\n",
            "Epoch 92/100\n",
            "47/47 [==============================] - 2s 47ms/step - loss: 0.2474 - accuracy: 0.9798\n",
            "Epoch 93/100\n",
            "47/47 [==============================] - 2s 47ms/step - loss: 0.2387 - accuracy: 0.9784\n",
            "Epoch 94/100\n",
            "47/47 [==============================] - 2s 47ms/step - loss: 0.2308 - accuracy: 0.9798\n",
            "Epoch 95/100\n",
            "47/47 [==============================] - 3s 69ms/step - loss: 0.2226 - accuracy: 0.9791\n",
            "Epoch 96/100\n",
            "47/47 [==============================] - 2s 48ms/step - loss: 0.2161 - accuracy: 0.9798\n",
            "Epoch 97/100\n",
            "47/47 [==============================] - 2s 48ms/step - loss: 0.2091 - accuracy: 0.9791\n",
            "Epoch 98/100\n",
            "47/47 [==============================] - 2s 47ms/step - loss: 0.2029 - accuracy: 0.9798\n",
            "Epoch 99/100\n",
            "47/47 [==============================] - 2s 47ms/step - loss: 0.1965 - accuracy: 0.9784\n",
            "Epoch 100/100\n",
            "47/47 [==============================] - 3s 62ms/step - loss: 0.1894 - accuracy: 0.9804\n"
          ]
        }
      ]
    },
    {
      "cell_type": "markdown",
      "source": [
        "### Prediction Phase"
      ],
      "metadata": {
        "id": "WDBGLYWmyJH8"
      }
    },
    {
      "cell_type": "code",
      "source": [
        "input_text = \"cricket begin\"\n",
        "for i in range(6):\n",
        "    token_list = tokenizer.texts_to_sequences([input_text])[0]\n",
        "    token_list = tf.keras.preprocessing.sequence.pad_sequences([token_list], maxlen=max_length-1, padding='pre')\n",
        "    predicted = np.argmax(model.predict(token_list), axis=-1)\n",
        "    output_word = \"\"\n",
        "    for word, index in tokenizer.word_index.items():\n",
        "        if index == predicted:\n",
        "            output_word = word\n",
        "            break\n",
        "    input_text += \" \" + output_word\n",
        "\n",
        "print(input_text)"
      ],
      "metadata": {
        "colab": {
          "base_uri": "https://localhost:8080/"
        },
        "id": "UEtrlTICy23n",
        "outputId": "4f101461-3ee2-4560-9edd-e0310f1f29d7"
      },
      "execution_count": 23,
      "outputs": [
        {
          "output_type": "stream",
          "name": "stdout",
          "text": [
            "1/1 [==============================] - 0s 484ms/step\n",
            "1/1 [==============================] - 0s 29ms/step\n",
            "1/1 [==============================] - 0s 32ms/step\n",
            "1/1 [==============================] - 0s 29ms/step\n",
            "1/1 [==============================] - 0s 28ms/step\n",
            "1/1 [==============================] - 0s 33ms/step\n",
            "cricket begin the west indies and india by\n"
          ]
        }
      ]
    }
  ]
}